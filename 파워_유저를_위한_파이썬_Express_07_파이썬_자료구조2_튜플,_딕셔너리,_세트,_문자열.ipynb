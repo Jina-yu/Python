{
  "nbformat": 4,
  "nbformat_minor": 0,
  "metadata": {
    "colab": {
      "provenance": [],
      "authorship_tag": "ABX9TyNJvpl6g+tZMO5HSMtUg1A2",
      "include_colab_link": true
    },
    "kernelspec": {
      "name": "python3",
      "display_name": "Python 3"
    },
    "language_info": {
      "name": "python"
    }
  },
  "cells": [
    {
      "cell_type": "markdown",
      "metadata": {
        "id": "view-in-github",
        "colab_type": "text"
      },
      "source": [
        "<a href=\"https://colab.research.google.com/github/Jina-yu/Python/blob/main/%ED%8C%8C%EC%9B%8C_%EC%9C%A0%EC%A0%80%EB%A5%BC_%EC%9C%84%ED%95%9C_%ED%8C%8C%EC%9D%B4%EC%8D%AC_Express_07_%ED%8C%8C%EC%9D%B4%EC%8D%AC_%EC%9E%90%EB%A3%8C%EA%B5%AC%EC%A1%B02_%ED%8A%9C%ED%94%8C%2C_%EB%94%95%EC%85%94%EB%84%88%EB%A6%AC%2C_%EC%84%B8%ED%8A%B8%2C_%EB%AC%B8%EC%9E%90%EC%97%B4.ipynb\" target=\"_parent\"><img src=\"https://colab.research.google.com/assets/colab-badge.svg\" alt=\"Open In Colab\"/></a>"
      ]
    },
    {
      "cell_type": "code",
      "execution_count": null,
      "metadata": {
        "id": "9S7tln6sr5TR"
      },
      "outputs": [],
      "source": [
        "fruits={\"apple\", \"banana\", \"grape\"}\n",
        "size=len(fruits)"
      ]
    },
    {
      "cell_type": "code",
      "source": [
        "fruits={\"apple\", \"banana\", \"grape\"}\n",
        "if \"apple\" in fruits:\n",
        "  print(\"집합 안에 apple이 있습니다.\")"
      ],
      "metadata": {
        "colab": {
          "base_uri": "https://localhost:8080/"
        },
        "id": "du8AH3GDr97t",
        "outputId": "d4ba812f-4722-491c-bf01-290112aefde4"
      },
      "execution_count": null,
      "outputs": [
        {
          "output_type": "stream",
          "name": "stdout",
          "text": [
            "집합 안에 apple이 있습니다.\n"
          ]
        }
      ]
    },
    {
      "cell_type": "code",
      "source": [
        "for x in fruits:\n",
        "  print(x, end=\" \")"
      ],
      "metadata": {
        "colab": {
          "base_uri": "https://localhost:8080/"
        },
        "id": "v0iyDxL6sFQU",
        "outputId": "e5b6e0e1-2221-423a-94af-5132d3b92be2"
      },
      "execution_count": null,
      "outputs": [
        {
          "output_type": "stream",
          "name": "stdout",
          "text": [
            "grape apple banana "
          ]
        }
      ]
    },
    {
      "cell_type": "code",
      "source": [
        "#Lab: 문자열의 공통 문자\n",
        "#사용자로부터 2개의 문자열을 받아서 두 문자열의 공통 문자를 출력하는 프로그램 작성\n",
        "\n",
        "s1=input(\"첫 번째 문자열: \")\n",
        "s2=input(\"두 번째 문자열: \")\n",
        "\n",
        "list1=list(set(s1)&set(s2)) #세트로 만들고 교집합 연산하기\n",
        "\n",
        "print(\"\\n공통적이 글자:\", end=\" \")\n",
        "for i in list1:\n",
        "  print(i, end=\" \")"
      ],
      "metadata": {
        "colab": {
          "base_uri": "https://localhost:8080/"
        },
        "id": "Ujsr8J2FsLLW",
        "outputId": "44a81ee3-1f26-431e-ebff-f79c4b03b5e8"
      },
      "execution_count": null,
      "outputs": [
        {
          "output_type": "stream",
          "name": "stdout",
          "text": [
            "첫 번째 문자열: Hello World!\n",
            "두 번째 문자열: How are yo?\n",
            "\n",
            "공통적이 글자:   H e r o "
          ]
        }
      ]
    },
    {
      "cell_type": "code",
      "source": [
        "#Lab: 중복되지 않은 단어의 개수 세기\n",
        "txt=input(\"입력 텍스트: \")\n",
        "words=txt.split(\" \")\n",
        "unique=set(words)\n",
        "\n",
        "print(\"사용된 단어의 개수=\", len(unique))\n",
        "print(unique)"
      ],
      "metadata": {
        "colab": {
          "base_uri": "https://localhost:8080/"
        },
        "id": "Hgafj3KqwkXc",
        "outputId": "35596162-9c38-4382-b26e-c65f47d459f8"
      },
      "execution_count": null,
      "outputs": [
        {
          "output_type": "stream",
          "name": "stdout",
          "text": [
            "입력 텍스트: I have a dream that one day every valley shall be exalted and every hill and mountain shall be made low\n",
            "사용된 단어의 개수= 17\n",
            "{'shall', 'be', 'and', 'day', 'low', 'valley', 'made', 'every', 'that', 'hill', 'mountain', 'exalted', 'one', 'have', 'dream', 'I', 'a'}\n"
          ]
        }
      ]
    },
    {
      "cell_type": "markdown",
      "source": [
        "# 딕셔너리"
      ],
      "metadata": {
        "id": "lbp0rY1L5Kbp"
      }
    },
    {
      "cell_type": "code",
      "source": [
        "dic={i:str(i) for i in [1,2,3,4,5]}\n",
        "print(dic)"
      ],
      "metadata": {
        "id": "halQ1IBkw4CY",
        "colab": {
          "base_uri": "https://localhost:8080/"
        },
        "outputId": "aff91b32-8d40-45f2-e4fa-a8b9e95feb56"
      },
      "execution_count": 2,
      "outputs": [
        {
          "output_type": "stream",
          "name": "stdout",
          "text": [
            "{1: '1', 2: '2', 3: '3', 4: '4', 5: '5'}\n"
          ]
        }
      ]
    },
    {
      "cell_type": "code",
      "source": [
        "fruits=[\"apple\", \"orange\", \"banana\"]\n",
        "dic={f:len(f)for f in fruits}\n",
        "print(dic)"
      ],
      "metadata": {
        "colab": {
          "base_uri": "https://localhost:8080/"
        },
        "id": "nUsBIJN_3nPT",
        "outputId": "27c02aad-53eb-41f8-e058-bcffc81c3283"
      },
      "execution_count": 3,
      "outputs": [
        {
          "output_type": "stream",
          "name": "stdout",
          "text": [
            "{'apple': 5, 'orange': 6, 'banana': 6}\n"
          ]
        }
      ]
    },
    {
      "cell_type": "code",
      "source": [
        "#Lab: 영한 사전\n",
        "english_dict={} #공백 딕셔너리 생성\n",
        "\n",
        "english_dict[\"One\"]=\"하나\"\n",
        "english_dict[\"Two\"]=\"둘\"\n",
        "english_dict[\"Three\"]=\"셋\"\n",
        "\n",
        "word=input(\"단어를 입력하시오: \")\n",
        "print(english_dict[word])"
      ],
      "metadata": {
        "colab": {
          "base_uri": "https://localhost:8080/"
        },
        "id": "OGbToRQV33xJ",
        "outputId": "a0645916-a576-4c6a-e16e-4718bbc23edd"
      },
      "execution_count": 4,
      "outputs": [
        {
          "output_type": "stream",
          "name": "stdout",
          "text": [
            "단어를 입력하시오: Two\n",
            "둘\n"
          ]
        }
      ]
    },
    {
      "cell_type": "code",
      "source": [
        "#Lab: 주소록 작성\n",
        "def main():\n",
        "  address_book={}\n",
        "  while True:\n",
        "    user=display_menu();\n",
        "    if user==1:\n",
        "      name, number=get_contact()\n",
        "      address_book[name]=number\n",
        "    elif user==2:\n",
        "      name, number=get_contact()\n",
        "      address_book.pop(name)\n",
        "    elif user==3:\n",
        "      name=input(\"이름을 입력하시오: \")\n",
        "      for name, value in address_book.items():\n",
        "        print(value)\n",
        "    elif user==4:\n",
        "      for key in sorted(address_book):\n",
        "        print(key, \"의 전화번호:\", address_book[key])\n",
        "    else:\n",
        "      break\n",
        "\n",
        "#이름과 전화번호 입력 받아서 반환\n",
        "def get_contact():\n",
        "  name=input(\"이름: \")\n",
        "  number=input(\"전화번호: \")\n",
        "  return name, number #튜플로 반환\n",
        "\n",
        "#메뉴를 화면에 출력\n",
        "def display_menu():\n",
        "  print(\"1. 연락처 추가\")\n",
        "  print(\"2. 연락처 삭제\")\n",
        "  print(\"3. 연락처 검색\")\n",
        "  print(\"4. 연락처 출력\")\n",
        "  print(\"5. 종료\")\n",
        "  select=int(input(\"메뉴 항목을 선택하시오: \"))\n",
        "  return select\n",
        "\n",
        "main()"
      ],
      "metadata": {
        "colab": {
          "base_uri": "https://localhost:8080/"
        },
        "id": "5nVQdacs5cgR",
        "outputId": "d526547a-37a2-41af-9a4f-44f1654dc7ee"
      },
      "execution_count": 6,
      "outputs": [
        {
          "name": "stdout",
          "output_type": "stream",
          "text": [
            "1. 연락처 추가\n",
            "2. 연락처 삭제\n",
            "3. 연락처 검색\n",
            "4. 연락처 출력\n",
            "5. 종료\n",
            "메뉴 항목을 선택하시오: 1\n",
            "이름: 김\n",
            "전화번호: 1234\n",
            "1. 연락처 추가\n",
            "2. 연락처 삭제\n",
            "3. 연락처 검색\n",
            "4. 연락처 출력\n",
            "5. 종료\n",
            "메뉴 항목을 선택하시오: 3\n",
            "이름을 입력하시오: 김\n",
            "1234\n",
            "1. 연락처 추가\n",
            "2. 연락처 삭제\n",
            "3. 연락처 검색\n",
            "4. 연락처 출력\n",
            "5. 종료\n",
            "메뉴 항목을 선택하시오: 5\n"
          ]
        }
      ]
    },
    {
      "cell_type": "code",
      "source": [
        "#Lab: 학생 성적 처리\n",
        "\n",
        "score_dic={\n",
        "    \"Kim\":[98, 83, 95],\n",
        "    \"Lee\":[68, 45, 78],\n",
        "    \"Choi\":[25, 56, 69]\n",
        "}\n",
        "\n",
        "for name, scores in score_dic.items():\n",
        "  print(name,\"의 평균성적=\",sum(scores)/len(scores))"
      ],
      "metadata": {
        "colab": {
          "base_uri": "https://localhost:8080/"
        },
        "id": "v3PPCRu76hQI",
        "outputId": "39fcae88-b8c8-4d22-c8bb-4cf4bb1ec6f4"
      },
      "execution_count": 9,
      "outputs": [
        {
          "output_type": "stream",
          "name": "stdout",
          "text": [
            "Kim 의 평균성적= 92.0\n",
            "Lee 의 평균성적= 63.666666666666664\n",
            "Choi 의 평균성적= 50.0\n"
          ]
        }
      ]
    },
    {
      "cell_type": "code",
      "source": [
        "#Lab:단어 카운터 만들기\n",
        "text_data=\"Create the highest, grandest vision possible fo your life, because you become what you believe\"\n",
        "\n",
        "word_dic={}\n",
        "for w in text_data.split(): #split()는 공백을 이용하여 문자열에서 단어들을 분리함\n",
        "  if w in word_dic:\n",
        "    word_dic[w]+=1\n",
        "  else:\n",
        "    word_dic[w]=1\n",
        "\n",
        "for w, count in sorted(word_dic.items()): #키와 값을 정렬하여 반복 처리\n",
        "  print(w, \"의 등장횟수=\", count)"
      ],
      "metadata": {
        "colab": {
          "base_uri": "https://localhost:8080/"
        },
        "id": "QcYUIJFT9_gZ",
        "outputId": "f4227150-7bc7-4e2b-bcb5-5e4d105022d0"
      },
      "execution_count": 10,
      "outputs": [
        {
          "output_type": "stream",
          "name": "stdout",
          "text": [
            "Create 의 등장횟수= 1\n",
            "because 의 등장횟수= 1\n",
            "become 의 등장횟수= 1\n",
            "believe 의 등장횟수= 1\n",
            "fo 의 등장횟수= 1\n",
            "grandest 의 등장횟수= 1\n",
            "highest, 의 등장횟수= 1\n",
            "life, 의 등장횟수= 1\n",
            "possible 의 등장횟수= 1\n",
            "the 의 등장횟수= 1\n",
            "vision 의 등장횟수= 1\n",
            "what 의 등장횟수= 1\n",
            "you 의 등장횟수= 2\n",
            "your 의 등장횟수= 1\n"
          ]
        }
      ]
    },
    {
      "cell_type": "code",
      "source": [
        "from collections import Counter\n",
        "text_data=\"Create the highest, grandest vision possible fo your life, because you become what you believe\"\n",
        "myDic=Counter(text_data.split(\" \"))\n",
        "print(myDic)"
      ],
      "metadata": {
        "colab": {
          "base_uri": "https://localhost:8080/"
        },
        "id": "O1tACaVx-zQe",
        "outputId": "0ec72df3-4763-41e4-8e9b-3011dbe38b96"
      },
      "execution_count": 12,
      "outputs": [
        {
          "output_type": "stream",
          "name": "stdout",
          "text": [
            "Counter({'you': 2, 'Create': 1, 'the': 1, 'highest,': 1, 'grandest': 1, 'vision': 1, 'possible': 1, 'fo': 1, 'your': 1, 'life,': 1, 'because': 1, 'become': 1, 'what': 1, 'believe': 1})\n"
          ]
        }
      ]
    },
    {
      "cell_type": "code",
      "source": [
        "s=\"Monty Python\"\n",
        "s[:2]"
      ],
      "metadata": {
        "colab": {
          "base_uri": "https://localhost:8080/",
          "height": 35
        },
        "id": "0grXeEnF_Le8",
        "outputId": "5d9b4252-65f7-4061-85bb-ed0af7e9a6f7"
      },
      "execution_count": 13,
      "outputs": [
        {
          "output_type": "execute_result",
          "data": {
            "text/plain": [
              "'Mo'"
            ],
            "application/vnd.google.colaboratory.intrinsic+json": {
              "type": "string"
            }
          },
          "metadata": {},
          "execution_count": 13
        }
      ]
    },
    {
      "cell_type": "code",
      "source": [
        "s[4:]"
      ],
      "metadata": {
        "colab": {
          "base_uri": "https://localhost:8080/",
          "height": 35
        },
        "id": "wdF7hhm2Ecx2",
        "outputId": "ba1c1e11-bfb0-4ab1-84be-903afba01c17"
      },
      "execution_count": 14,
      "outputs": [
        {
          "output_type": "execute_result",
          "data": {
            "text/plain": [
              "'y Python'"
            ],
            "application/vnd.google.colaboratory.intrinsic+json": {
              "type": "string"
            }
          },
          "metadata": {},
          "execution_count": 14
        }
      ]
    },
    {
      "cell_type": "code",
      "source": [
        "s=\"Monty Python\"\n",
        "s[:2]+s[2:]"
      ],
      "metadata": {
        "colab": {
          "base_uri": "https://localhost:8080/",
          "height": 35
        },
        "id": "2ENKLGoQEd2D",
        "outputId": "188d4134-bbbb-4afd-ba82-77461acdea28"
      },
      "execution_count": 15,
      "outputs": [
        {
          "output_type": "execute_result",
          "data": {
            "text/plain": [
              "'Monty Python'"
            ],
            "application/vnd.google.colaboratory.intrinsic+json": {
              "type": "string"
            }
          },
          "metadata": {},
          "execution_count": 15
        }
      ]
    },
    {
      "cell_type": "code",
      "source": [
        "message=\"See yo at noon\"\n",
        "low=message[:5]\n",
        "high=message[5:]\n",
        "low"
      ],
      "metadata": {
        "colab": {
          "base_uri": "https://localhost:8080/",
          "height": 35
        },
        "id": "6FeEJNnSEjGg",
        "outputId": "8240341e-4669-40f8-f5b0-9a9c8ee70ac4"
      },
      "execution_count": 16,
      "outputs": [
        {
          "output_type": "execute_result",
          "data": {
            "text/plain": [
              "'See y'"
            ],
            "application/vnd.google.colaboratory.intrinsic+json": {
              "type": "string"
            }
          },
          "metadata": {},
          "execution_count": 16
        }
      ]
    },
    {
      "cell_type": "code",
      "source": [
        "high"
      ],
      "metadata": {
        "colab": {
          "base_uri": "https://localhost:8080/",
          "height": 35
        },
        "id": "0Gmb-XhsErKP",
        "outputId": "9f186f78-6d80-44da-ca13-8750502c834a"
      },
      "execution_count": 17,
      "outputs": [
        {
          "output_type": "execute_result",
          "data": {
            "text/plain": [
              "'o at noon'"
            ],
            "application/vnd.google.colaboratory.intrinsic+json": {
              "type": "string"
            }
          },
          "metadata": {},
          "execution_count": 17
        }
      ]
    },
    {
      "cell_type": "code",
      "source": [
        "reg=\"980326\"\n",
        "print(reg[0:2]+\"년\")"
      ],
      "metadata": {
        "colab": {
          "base_uri": "https://localhost:8080/"
        },
        "id": "u7jrvzXkErue",
        "outputId": "acf49ac8-7376-4787-99d2-f7765c145f29"
      },
      "execution_count": 18,
      "outputs": [
        {
          "output_type": "stream",
          "name": "stdout",
          "text": [
            "98년\n"
          ]
        }
      ]
    },
    {
      "cell_type": "code",
      "source": [
        "print(reg[2:4]+\"월\")"
      ],
      "metadata": {
        "colab": {
          "base_uri": "https://localhost:8080/"
        },
        "id": "Dm_eZQ6TE6Iq",
        "outputId": "16fb7cda-1eba-4f83-f2fa-431eee049f6d"
      },
      "execution_count": 19,
      "outputs": [
        {
          "output_type": "stream",
          "name": "stdout",
          "text": [
            "03월\n"
          ]
        }
      ]
    },
    {
      "cell_type": "code",
      "source": [
        "print(reg[4:6]+\"일\")"
      ],
      "metadata": {
        "colab": {
          "base_uri": "https://localhost:8080/"
        },
        "id": "y0GpJc8HE9M0",
        "outputId": "8cada09c-237a-4934-a74b-a17624890b15"
      },
      "execution_count": 20,
      "outputs": [
        {
          "output_type": "stream",
          "name": "stdout",
          "text": [
            "26일\n"
          ]
        }
      ]
    },
    {
      "cell_type": "code",
      "source": [
        "#Lab: 회문 검사하기\n",
        "s=input(\"문자열을 입력하시오: \")\n",
        "s1=s[::-1] #문자열을 거꾸로 만듬\n",
        "\n",
        "if(s==s1):\n",
        "  print(\"회문입니다\")\n",
        "else:\n",
        "  print(\"회문이 아닙니다\")"
      ],
      "metadata": {
        "colab": {
          "base_uri": "https://localhost:8080/"
        },
        "id": "OkHwY-F4E--B",
        "outputId": "9c9a39a6-f842-49ab-ff9e-dbcaa3a70f09"
      },
      "execution_count": 21,
      "outputs": [
        {
          "output_type": "stream",
          "name": "stdout",
          "text": [
            "문자열을 입력하시오: ㅇㅁㅇ\n",
            "회문입니다\n"
          ]
        }
      ]
    },
    {
      "cell_type": "code",
      "source": [
        "string = \"Hello, World!\"\n",
        "index = string.rfind(' ')\n",
        "print(index)"
      ],
      "metadata": {
        "colab": {
          "base_uri": "https://localhost:8080/"
        },
        "id": "DvWfxF27Gk5c",
        "outputId": "a25dbdf1-7973-4d46-f907-0b2ed13a2768"
      },
      "execution_count": 22,
      "outputs": [
        {
          "output_type": "stream",
          "name": "stdout",
          "text": [
            "6\n"
          ]
        }
      ]
    },
    {
      "cell_type": "code",
      "source": [
        "s=\"Let it be, let it be, let it be\"\n",
        "s.rfind(\"let\")"
      ],
      "metadata": {
        "colab": {
          "base_uri": "https://localhost:8080/"
        },
        "id": "M4axOinmJp63",
        "outputId": "47a57ff2-e9ca-454a-db4e-d0bab4251225"
      },
      "execution_count": 23,
      "outputs": [
        {
          "output_type": "execute_result",
          "data": {
            "text/plain": [
              "22"
            ]
          },
          "metadata": {},
          "execution_count": 23
        }
      ]
    },
    {
      "cell_type": "code",
      "source": [
        "s=\"김달걀달걀금달걀\"\n",
        "s.rfind(\"달걀\")"
      ],
      "metadata": {
        "colab": {
          "base_uri": "https://localhost:8080/"
        },
        "id": "Mc_HQgy4K2tc",
        "outputId": "70bfc8b2-26a8-4a73-e88f-2fb053b1fbf3"
      },
      "execution_count": 25,
      "outputs": [
        {
          "output_type": "execute_result",
          "data": {
            "text/plain": [
              "6"
            ]
          },
          "metadata": {},
          "execution_count": 25
        }
      ]
    },
    {
      "cell_type": "code",
      "source": [
        "s=\"hello world\"\n",
        "clist=list(s)\n",
        "clist"
      ],
      "metadata": {
        "colab": {
          "base_uri": "https://localhost:8080/"
        },
        "id": "jTEsIo8SLOgf",
        "outputId": "717b80cf-8b8d-438b-d34c-4f7ca677ffdb"
      },
      "execution_count": 26,
      "outputs": [
        {
          "output_type": "execute_result",
          "data": {
            "text/plain": [
              "['h', 'e', 'l', 'l', 'o', ' ', 'w', 'o', 'r', 'l', 'd']"
            ]
          },
          "metadata": {},
          "execution_count": 26
        }
      ]
    },
    {
      "cell_type": "code",
      "source": [
        "\" \".join(\"Actoins \\n\\t speak louder   tahn words\".split())\n",
        "#split()이 단어들 사이에 있는 공백 문자드을 없애고 단어들의 리스트로 만듦"
      ],
      "metadata": {
        "colab": {
          "base_uri": "https://localhost:8080/",
          "height": 35
        },
        "id": "2ulCofneQPZG",
        "outputId": "1ccbbbff-0bb3-4aa1-d7dc-221935cb6e90"
      },
      "execution_count": 28,
      "outputs": [
        {
          "output_type": "execute_result",
          "data": {
            "text/plain": [
              "'Actoins speak louder tahn words'"
            ],
            "application/vnd.google.colaboratory.intrinsic+json": {
              "type": "string"
            }
          },
          "metadata": {},
          "execution_count": 28
        }
      ]
    },
    {
      "cell_type": "code",
      "source": [
        "#Lab: 머리 글자어 만들기\n",
        "phrase=input(\"문자열을 입력하시오:\")\n",
        "acronym=\"\"\n",
        "\n",
        "#대문자로 만든 후에 단어들로 분리\n",
        "for word in phrase.upper().split():\n",
        "  acronym+=word[0]\n",
        "\n",
        "print(acronym)"
      ],
      "metadata": {
        "colab": {
          "base_uri": "https://localhost:8080/"
        },
        "id": "i3kFPAxgQv6x",
        "outputId": "77b61066-2ed0-4336-f293-665f391b1996"
      },
      "execution_count": 29,
      "outputs": [
        {
          "output_type": "stream",
          "name": "stdout",
          "text": [
            "문자열을 입력하시오:North Atlantic Treaty Organization\n",
            "NATO\n"
          ]
        }
      ]
    },
    {
      "cell_type": "code",
      "source": [
        "#Lab: 이메일 주소 분석\n",
        "address=input(\"이메일 주소를 입력하시오: \")\n",
        "(id, domain)=address.split(\"@\")\n",
        "\n",
        "print(address)\n",
        "print(\"아이디:\"+id)\n",
        "print(\"도메인:\"+domain)"
      ],
      "metadata": {
        "colab": {
          "base_uri": "https://localhost:8080/"
        },
        "id": "odq-e4CSRPXH",
        "outputId": "446000b1-ac3a-461f-d8e4-aa907a92c792"
      },
      "execution_count": 30,
      "outputs": [
        {
          "output_type": "stream",
          "name": "stdout",
          "text": [
            "이메일 주소를 입력하시오: aaa@google.com\n",
            "aaa@google.com\n",
            "아이디:aaa\n",
            "도메인:google.com\n"
          ]
        }
      ]
    },
    {
      "cell_type": "code",
      "source": [
        "#Lab: 문자열 분석\n",
        "#문자열 안에 있는 문자의 개수, 숫자의 개수, 공백의 개수 계산하는 프로그램\n",
        "sentence=input(\"문자열을 입력하시오: \")\n",
        "\n",
        "table={\"alphas\":0, \"digits\":0, \"spaces\":0}\n",
        "\n",
        "for i in sentence:\n",
        "  if i.isalpha():\n",
        "    table[\"alphas\"]+=1\n",
        "  if i.isdigit():\n",
        "    table[\"digits\"]+=1\n",
        "  if i.isspace():\n",
        "    table[\"spaces\"]+=1\n",
        "\n",
        "print(table)"
      ],
      "metadata": {
        "colab": {
          "base_uri": "https://localhost:8080/"
        },
        "id": "JrZgWZs_Ro5M",
        "outputId": "c2145975-9994-40b2-89c5-dcaf2e0ce1e7"
      },
      "execution_count": 31,
      "outputs": [
        {
          "output_type": "stream",
          "name": "stdout",
          "text": [
            "문자열을 입력하시오: A picture is worth a thousand words.\n",
            "{'alphas': 29, 'digits': 0, 'spaces': 6}\n"
          ]
        }
      ]
    },
    {
      "cell_type": "code",
      "source": [
        "#Lab: 트위터 메시지 처리\n",
        "t=\"Python is very easy and powerful!\"\n",
        "length=len(t.split(\" \"))\n",
        "print(length)"
      ],
      "metadata": {
        "colab": {
          "base_uri": "https://localhost:8080/"
        },
        "id": "Px0Js9HWSq6A",
        "outputId": "0b8a5657-1ad6-491a-f93e-dfdf93e1e345"
      },
      "execution_count": 32,
      "outputs": [
        {
          "output_type": "stream",
          "name": "stdout",
          "text": [
            "6\n"
          ]
        }
      ]
    },
    {
      "cell_type": "code",
      "source": [
        "#Lab: OTP 발생 프로그램\n",
        "import random\n",
        "\n",
        "s=\"0123456789\" #대상 문자열\n",
        "passlen=4 #패스워드 길이\n",
        "\n",
        "p=\"\".join(random.sample(s, passlen )) #sampe()은 주어진 개수만큼의 글자를 문자열 s에서 임의 선택, join()은 이들 글자들을 결합\n",
        "print(p)"
      ],
      "metadata": {
        "colab": {
          "base_uri": "https://localhost:8080/"
        },
        "id": "X3b5LgtzS61i",
        "outputId": "8d3fc42e-8787-4d0b-96bc-6a177a5b330c"
      },
      "execution_count": 34,
      "outputs": [
        {
          "output_type": "stream",
          "name": "stdout",
          "text": [
            "4215\n"
          ]
        }
      ]
    },
    {
      "cell_type": "markdown",
      "source": [
        "#Programming"
      ],
      "metadata": {
        "id": "lD9Mbitcnqas"
      }
    },
    {
      "cell_type": "code",
      "source": [
        "#01.\n",
        "user=list(map(int, input(\"주어진 리스트: \").split()))\n",
        "arrange=sorted(set(user))\n",
        "print(\"주어진 리스트: \", user)\n",
        "print(\"정리된 리스트: \", arrange)"
      ],
      "metadata": {
        "colab": {
          "base_uri": "https://localhost:8080/"
        },
        "id": "igntKbLiTer5",
        "outputId": "b770a3e9-0fda-4970-c66d-8f93ee0e4a78"
      },
      "execution_count": 20,
      "outputs": [
        {
          "output_type": "stream",
          "name": "stdout",
          "text": [
            "주어진 리스트: 3 3 5 1 2\n",
            "주어진 리스트:  [3, 3, 5, 1, 2]\n",
            "정리된 리스트:  [1, 2, 3, 5]\n"
          ]
        }
      ]
    },
    {
      "cell_type": "code",
      "source": [
        "#02.\n",
        "values=[1,2,3,4,5,6,7,8,9,10]\n",
        "dict={x:x*x for x in values}\n",
        "print(dict)"
      ],
      "metadata": {
        "colab": {
          "base_uri": "https://localhost:8080/"
        },
        "id": "Ekmwbhlsn9JO",
        "outputId": "8fe4eca9-95ea-463c-cf28-a0af7cb64412"
      },
      "execution_count": 21,
      "outputs": [
        {
          "output_type": "stream",
          "name": "stdout",
          "text": [
            "{1: 1, 2: 4, 3: 9, 4: 16, 5: 25, 6: 36, 7: 49, 8: 64, 9: 81, 10: 100}\n"
          ]
        }
      ]
    },
    {
      "cell_type": "code",
      "source": [
        "#03.\n",
        "d={\"Apple\":1, \"Banana\": 2, \"Grape\": 3}\n",
        "for k,v in d.items():\n",
        "  print(k,\"->\",v)"
      ],
      "metadata": {
        "colab": {
          "base_uri": "https://localhost:8080/"
        },
        "id": "FCq9TPXsxA-P",
        "outputId": "8b3bc78f-a5c4-46fd-c35a-38738af29798"
      },
      "execution_count": 22,
      "outputs": [
        {
          "output_type": "stream",
          "name": "stdout",
          "text": [
            "Apple -> 1\n",
            "Banana -> 2\n",
            "Grape -> 3\n"
          ]
        }
      ]
    },
    {
      "cell_type": "code",
      "source": [
        "#04.\n",
        "d={1:10, 2:20, 3:30, 4:40, 5:50, 6:60}\n",
        "key=int(input(\"키를 입력하시오: \"))\n",
        "if key in d:\n",
        "  print(f\"키 {key}은 딕셔너리에 있습니다.\")"
      ],
      "metadata": {
        "colab": {
          "base_uri": "https://localhost:8080/"
        },
        "id": "urB5mIjMzukM",
        "outputId": "1d85529c-45af-4027-d717-bd7e1ad5ec40"
      },
      "execution_count": 23,
      "outputs": [
        {
          "output_type": "stream",
          "name": "stdout",
          "text": [
            "키를 입력하시오: 5\n",
            "키 5은 딕셔너리에 있습니다.\n"
          ]
        }
      ]
    },
    {
      "cell_type": "code",
      "source": [
        "#05.\n",
        "myDict={\"옷\":100, \"컴퓨터\":2000, \"모니터\":320}\n",
        "total=sum(myDict.values())\n",
        "\n",
        "print(f\"총합계={total}\")"
      ],
      "metadata": {
        "colab": {
          "base_uri": "https://localhost:8080/"
        },
        "id": "d47v8M5c0Pyf",
        "outputId": "073b475d-5074-45aa-f576-babd77973b8b"
      },
      "execution_count": 37,
      "outputs": [
        {
          "output_type": "stream",
          "name": "stdout",
          "text": [
            "총합계=2420\n"
          ]
        }
      ]
    },
    {
      "cell_type": "code",
      "source": [
        "del sum"
      ],
      "metadata": {
        "id": "e8O6zX390fFQ"
      },
      "execution_count": 36,
      "outputs": []
    },
    {
      "cell_type": "code",
      "source": [
        "#06.\n",
        "colors=[\"red\", \"green\", \"blue\"]\n",
        "values=[\"#FF0000\", \"#00800\", \"#0000FF\"]\n",
        "new=dict(zip(colors, values))\n",
        "print(colors)\n",
        "print(values)\n",
        "print(new)"
      ],
      "metadata": {
        "colab": {
          "base_uri": "https://localhost:8080/"
        },
        "id": "TCji-j425bds",
        "outputId": "73b7b585-5f34-4d62-f035-eb3dec6d5f5d"
      },
      "execution_count": 40,
      "outputs": [
        {
          "output_type": "stream",
          "name": "stdout",
          "text": [
            "['red', 'green', 'blue']\n",
            "['#FF0000', '#00800', '#0000FF']\n",
            "{'red': '#FF0000', 'green': '#00800', 'blue': '#0000FF'}\n"
          ]
        }
      ]
    },
    {
      "cell_type": "code",
      "source": [
        "#06. enumerate()함수 사용\n",
        "\n",
        "colors=[\"red\", \"green\", \"blue\"]\n",
        "values=[\"#FF0000\", \"#00800\", \"#0000FF\"]\n",
        "\n",
        "for i, color in enumerate(colors):\n",
        "  print(f\"{color}: {values[i]}\")"
      ],
      "metadata": {
        "colab": {
          "base_uri": "https://localhost:8080/"
        },
        "id": "8fs6VXqR56nc",
        "outputId": "7fe8bb18-2b7e-4d75-92e2-967eddc55094"
      },
      "execution_count": 42,
      "outputs": [
        {
          "output_type": "stream",
          "name": "stdout",
          "text": [
            "red: #FF0000\n",
            "green: #00800\n",
            "blue: #0000FF\n"
          ]
        }
      ]
    },
    {
      "cell_type": "code",
      "source": [
        "#07.\n",
        "myDict={}\n",
        "date=input(\"날짜를 입력하시오: \")\n",
        "schedule=list(input(\"일정을 입력하시오: \").split(\",\"))\n",
        "\n",
        "myDict[date]=schedule\n",
        "\n",
        "for key, value in myDict.items():\n",
        "  print(f\"날짜: {key}, 스케쥴: {schedule}\")\n"
      ],
      "metadata": {
        "colab": {
          "base_uri": "https://localhost:8080/"
        },
        "id": "v0_Hbvr86VWL",
        "outputId": "332d9c00-38dd-45a9-9870-75a471475e40"
      },
      "execution_count": 52,
      "outputs": [
        {
          "output_type": "stream",
          "name": "stdout",
          "text": [
            "날짜를 입력하시오: 2020 3 4\n",
            "일정을 입력하시오: 과제 제출, 제안서 발표\n",
            "날짜: 2020 3 4, 스케쥴: ['과제 제출', ' 제안서 발표']\n"
          ]
        }
      ]
    },
    {
      "cell_type": "code",
      "source": [
        "#08.\n",
        "moon_number=int(input(\"달의 번호: \"))\n",
        "calendar={1:\"January\", 2:\"February\", 3:\"March\", 4:\"April\", 5:\"May\", 6:\"June\", 7:\"July\", 8:\"August\", 9:\"September\", 10:\"October\", 11:\"November\", 12:\"December\"}\n",
        "if moon_number in calendar:\n",
        "  print(calendar[moon_number])"
      ],
      "metadata": {
        "colab": {
          "base_uri": "https://localhost:8080/"
        },
        "id": "hL6hq9YE-sVc",
        "outputId": "918d32f8-39e7-4b4c-c8fb-255ea004e07b"
      },
      "execution_count": 54,
      "outputs": [
        {
          "output_type": "stream",
          "name": "stdout",
          "text": [
            "달의 번호: 3\n",
            "March\n"
          ]
        }
      ]
    },
    {
      "cell_type": "code",
      "source": [
        "#09\n",
        "one=set(input(\"첫 번재 문자열: \").replace(\" \",\"\").replace(\"!\",\"\"))\n",
        "two=set(input(\"두 번째 문자열: \").replace(\" \",\"\").replace(\"!\",\"\"))\n",
        "common=one&two\n",
        "result=' '.join(common)\n",
        "print(result)\n"
      ],
      "metadata": {
        "colab": {
          "base_uri": "https://localhost:8080/"
        },
        "id": "__uto43k__aN",
        "outputId": "5ce99439-433c-4080-b0a9-6e9a835cd3d2"
      },
      "execution_count": 67,
      "outputs": [
        {
          "output_type": "stream",
          "name": "stdout",
          "text": [
            "첫 번재 문자열: Hello World!\n",
            "두 번째 문자열: Hi! Welcome!!\n",
            "l H o e W\n"
          ]
        }
      ]
    },
    {
      "cell_type": "code",
      "source": [
        "#10.\n",
        "set1={10, 20, 30, 40, 50, 60}\n",
        "set2={30, 40, 50, 60, 70, 80}\n",
        "common=set1&set2\n",
        "set3=set()\n",
        "setA=set1-common\n",
        "setB=set2-common\n",
        "set3.update(setA)\n",
        "set3.update(setB)\n",
        "\n",
        "print(f\"어느 한쪽에만 있는 요소들{set3}\")"
      ],
      "metadata": {
        "colab": {
          "base_uri": "https://localhost:8080/"
        },
        "id": "VE5h2SHoDdGf",
        "outputId": "43bcc237-e1e9-43a9-ecd9-184b78d2225d"
      },
      "execution_count": 82,
      "outputs": [
        {
          "output_type": "stream",
          "name": "stdout",
          "text": [
            "어느 한쪽에만 있는 요소들{80, 10, 20, 70}\n"
          ]
        }
      ]
    },
    {
      "cell_type": "code",
      "source": [
        "#11.\n",
        "problems={\"파이썬\": \"최근에 가장 떠오르는 프로그래밍 언어\",\"변수\":\"데이터를 저장하는 메모리 공간\", \"함수\":\"작업을 수행하는 문장들의 집합에 이름을 붙인것\",\n",
        "          \"리스트\": \"서로 관련이 없는 항목들의 모임\",}\n",
        "for key,value in problems.items():\n",
        "  user=input(f\"다음은 어떤 단어에 대한 설명일까요?\\n\\\"{value}\\\"\\n(1)파이썬 (2)변수 (3)함수 (4)리스트\")\n",
        "  if user==key:\n",
        "    print(\"정답입니다.!\")\n",
        "  else:\n",
        "    print(\"오답입니다.!\")"
      ],
      "metadata": {
        "colab": {
          "base_uri": "https://localhost:8080/"
        },
        "id": "I6jXU8kEHq4Z",
        "outputId": "80d8862a-72b0-457a-fbb5-90d15c4741a9"
      },
      "execution_count": 84,
      "outputs": [
        {
          "output_type": "stream",
          "name": "stdout",
          "text": [
            "다음은 어떤 단어에 대한 설명일까요?\n",
            "\"최근에 가장 떠오르는 프로그래밍 언어\"\n",
            "(1)파이썬 (2)변수 (3)함수 (4)리스트파이썬\n",
            "정답입니다.!\n",
            "다음은 어떤 단어에 대한 설명일까요?\n",
            "\"데이터를 저장하는 메모리 공간\"\n",
            "(1)파이썬 (2)변수 (3)함수 (4)리스트변수\n",
            "정답입니다.!\n",
            "다음은 어떤 단어에 대한 설명일까요?\n",
            "\"작업을 수행하는 문장들의 집합에 이름을 붙인것\"\n",
            "(1)파이썬 (2)변수 (3)함수 (4)리스트변수\n",
            "오답입니다.!\n",
            "다음은 어떤 단어에 대한 설명일까요?\n",
            "\"서로 관련이 없는 항목들의 모임\"\n",
            "(1)파이썬 (2)변수 (3)함수 (4)리스트ㄹ스트\n",
            "오답입니다.!\n"
          ]
        }
      ]
    },
    {
      "cell_type": "code",
      "source": [
        "import random\n",
        "\n",
        "problems={\"파이썬\": \"최근에 가장 떠오르는 프로그래밍 언어\",\"변수\":\"데이터를 저장하는 메모리 공간\", \"함수\":\"작업을 수행하는 문장들의 집합에 이름을 붙인것\",\n",
        "          \"리스트\": \"서로 관련이 없는 항목들의 모임\",}\n",
        "\n",
        "items = list(problems.items())\n",
        "random.shuffle(items)\n",
        "\n",
        "for key,value in items:\n",
        "  user=input(f\"다음은 어떤 단어에 대한 설명일까요?\\n\\\"{value}\\\"\\n(1)파이썬 (2)변수 (3)함수 (4)리스트\")\n",
        "  if user==key:\n",
        "    print(\"정답입니다.!\")\n",
        "  else:\n",
        "    print(\"오답입니다.!\")\n"
      ],
      "metadata": {
        "colab": {
          "base_uri": "https://localhost:8080/"
        },
        "id": "fnLrLcHJLGi9",
        "outputId": "ece53e01-e35b-436e-c430-2920468b92d8"
      },
      "execution_count": 85,
      "outputs": [
        {
          "output_type": "stream",
          "name": "stdout",
          "text": [
            "다음은 어떤 단어에 대한 설명일까요?\n",
            "\"최근에 가장 떠오르는 프로그래밍 언어\"\n",
            "(1)파이썬 (2)변수 (3)함수 (4)리스트파이썬\n",
            "정답입니다.!\n",
            "다음은 어떤 단어에 대한 설명일까요?\n",
            "\"작업을 수행하는 문장들의 집합에 이름을 붙인것\"\n",
            "(1)파이썬 (2)변수 (3)함수 (4)리스트변수\n",
            "오답입니다.!\n",
            "다음은 어떤 단어에 대한 설명일까요?\n",
            "\"서로 관련이 없는 항목들의 모임\"\n",
            "(1)파이썬 (2)변수 (3)함수 (4)리스트변수\n",
            "오답입니다.!\n",
            "다음은 어떤 단어에 대한 설명일까요?\n",
            "\"데이터를 저장하는 메모리 공간\"\n",
            "(1)파이썬 (2)변수 (3)함수 (4)리스트변수\n",
            "정답입니다.!\n"
          ]
        }
      ]
    },
    {
      "cell_type": "code",
      "source": [
        "#12.\n",
        "\n",
        "sentence=input(\"문자열을 입력하시오: \").split(\" \")\n",
        "forbid=input(\"금칙어를 입력하시오: \").split(\" \")\n",
        "\n",
        "new_sentence = []\n",
        "for word in sentence:\n",
        "    for bad_word in forbid:\n",
        "        if word == bad_word:\n",
        "            word = word.replace(bad_word, \"*\"*len(bad_word))\n",
        "    new_sentence.append(word)\n",
        "\n",
        "print(' '.join(new_sentence))"
      ],
      "metadata": {
        "colab": {
          "base_uri": "https://localhost:8080/"
        },
        "id": "fI3l34cnLfYZ",
        "outputId": "5cf51579-713d-49c9-957d-c92f3e8dc4e2"
      },
      "execution_count": 92,
      "outputs": [
        {
          "output_type": "stream",
          "name": "stdout",
          "text": [
            "문자열을 입력하시오: I read a java book\n",
            "금칙어를 입력하시오: java red\n",
            "I read a **** book\n"
          ]
        }
      ]
    },
    {
      "cell_type": "code",
      "source": [
        "#13.\n",
        "letter=input(\"\")\n",
        "letterDict={\"Letters\":sum(1 for x in letter if x.isalpha()), \"DIGITS\":sum(1 for x in letter if x.isdigit())}\n",
        "print(letterDict)\n",
        "#letter에서 숫자가 발견될 때마다 1을 카운트하고, 그 1들의 총합을 구하는 것\n",
        "#generator expression"
      ],
      "metadata": {
        "colab": {
          "base_uri": "https://localhost:8080/"
        },
        "id": "5hCBKRLqNlpI",
        "outputId": "8773eb60-52cf-46b4-fd21-a8ce72baa9c4"
      },
      "execution_count": 95,
      "outputs": [
        {
          "output_type": "stream",
          "name": "stdout",
          "text": [
            "Hello World123\n",
            "{'Letters': 10, 'DIGITS': 3}\n"
          ]
        }
      ]
    },
    {
      "cell_type": "code",
      "source": [
        "#14.\n",
        "date=input(\"\")\n",
        "formatted_date=\"\".join(date.split(\"/\")[::-1])\n",
        "print(formatted_date)"
      ],
      "metadata": {
        "colab": {
          "base_uri": "https://localhost:8080/"
        },
        "id": "wluY_U-sUpQY",
        "outputId": "5927c771-9cb3-4214-ee2f-6b627cf504c6"
      },
      "execution_count": 98,
      "outputs": [
        {
          "output_type": "stream",
          "name": "stdout",
          "text": [
            "05/21/2020\n",
            "20202105\n"
          ]
        }
      ]
    },
    {
      "cell_type": "code",
      "source": [
        "date=input(\"날짜를 입력하세요 (MM/DD/YYYY): \")\n",
        "month, day, year=date.split(\"/\")\n",
        "formatted_date=year+month.zfill(2)+day.zfill(2)\n",
        "print(formatted_date)"
      ],
      "metadata": {
        "colab": {
          "base_uri": "https://localhost:8080/"
        },
        "id": "oZz4SaLTVxfg",
        "outputId": "4768f8f8-65a4-4168-9dd3-f57e487fc76f"
      },
      "execution_count": 99,
      "outputs": [
        {
          "output_type": "stream",
          "name": "stdout",
          "text": [
            "날짜를 입력하세요 (MM/DD/YYYY): 05/21/2020\n",
            "20200521\n"
          ]
        }
      ]
    },
    {
      "cell_type": "code",
      "source": [
        "#15.\n",
        "studentList={\n",
        "    \"Park\": \"Korea\",\n",
        "    \"Sam\": \"USA\",\n",
        "    \"Sakura\": \"Japan\",\n",
        "}\n",
        "\n",
        "for key, values in studentList.items():\n",
        "  print(f\"Hi! I\\\"m {key}, and I\\\"m from {values}.\")"
      ],
      "metadata": {
        "colab": {
          "base_uri": "https://localhost:8080/"
        },
        "id": "m4gVCXazXc26",
        "outputId": "c4b551e9-3ac0-4219-d506-107cf5650907"
      },
      "execution_count": 103,
      "outputs": [
        {
          "output_type": "stream",
          "name": "stdout",
          "text": [
            "Hi! I\"m Park, and I\"m from Korea.\n",
            "Hi! I\"m Sam, and I\"m from USA.\n",
            "Hi! I\"m Sakura, and I\"m from Japan.\n"
          ]
        }
      ]
    },
    {
      "cell_type": "code",
      "source": [
        "#16.\n",
        "import random\n",
        "\n",
        "s=\"abcdefghijklmnopqrstuvwxy01234567890ABCDEFGHIJKLMNOPQRSTUVWXYZ!@#$%^&*()\"\n",
        "special_characters = '!@#$%^&*()'\n",
        "number=''.join([char for char in s if char.isdigit()])\n",
        "passlen=8\n",
        "large=random.sample(s.upper(), 1)\n",
        "small=random.sample(s.lower(), 1)\n",
        "num=random.sample(number,1)\n",
        "special=random.sample(special_characters,1)\n",
        "password=large+small+num+special+random.sample(s, passlen-4)\n",
        "print(password)\n",
        "password=random.shuffle(password)\n",
        "print(password)\n"
      ],
      "metadata": {
        "colab": {
          "base_uri": "https://localhost:8080/"
        },
        "id": "Bpzn2bUGZJ3f",
        "outputId": "f7d499fe-1aaf-4f83-e659-2dfce0401a63"
      },
      "execution_count": 122,
      "outputs": [
        {
          "output_type": "stream",
          "name": "stdout",
          "text": [
            "&)qR^D07\n"
          ]
        }
      ]
    },
    {
      "cell_type": "code",
      "source": [
        "import random\n",
        "\n",
        "s = \"abcdefghijklmnopqrstuvwxy01234567890ABCDEFGHIJKLMNOPQRSTUVWXYZ!@#$%^&*()\"\n",
        "random_number = random.sample(s, 1)\n",
        "print(random_number)"
      ],
      "metadata": {
        "colab": {
          "base_uri": "https://localhost:8080/"
        },
        "id": "Y7P-V3pQaAZh",
        "outputId": "0f179064-e65d-4665-f2ec-253fbcb9f456"
      },
      "execution_count": 109,
      "outputs": [
        {
          "output_type": "stream",
          "name": "stdout",
          "text": [
            "['B']\n"
          ]
        }
      ]
    },
    {
      "cell_type": "code",
      "source": [
        "#16.\n",
        "import random\n",
        "\n",
        "s=\"abcdefghijklmnopqrstuvwxy01234567890ABCDEFGHIJKLMNOPQRSTUVWXYZ!@#$%^&*()\"\n",
        "special_characters = '!@#$%^&*()'\n",
        "number=''.join([char for char in s if char.isdigit()])\n",
        "passlen=8\n",
        "large=random.sample(s.upper(), 1)\n",
        "small=random.sample(s.lower(), 1)\n",
        "num=random.sample(number,1)\n",
        "special=random.sample(special_characters,1)\n",
        "password=large+small+num+special+random.sample(s, passlen-4)\n",
        "random.shuffle(password)\n",
        "print(\"\".join(password))"
      ],
      "metadata": {
        "id": "zfK4SauWb5VU"
      },
      "execution_count": null,
      "outputs": []
    }
  ]
}