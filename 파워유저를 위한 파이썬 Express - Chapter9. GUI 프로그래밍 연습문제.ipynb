{
  "nbformat": 4,
  "nbformat_minor": 0,
  "metadata": {
    "colab": {
      "provenance": [],
      "authorship_tag": "ABX9TyNUnbU/SEO8RZAghp/0WR3Y",
      "include_colab_link": true
    },
    "kernelspec": {
      "name": "python3",
      "display_name": "Python 3"
    },
    "language_info": {
      "name": "python"
    }
  },
  "cells": [
    {
      "cell_type": "markdown",
      "metadata": {
        "id": "view-in-github",
        "colab_type": "text"
      },
      "source": [
        "<a href=\"https://colab.research.google.com/github/Jina-yu/Python/blob/main/%ED%8C%8C%EC%9B%8C%EC%9C%A0%EC%A0%80%EB%A5%BC%20%EC%9C%84%ED%95%9C%20%ED%8C%8C%EC%9D%B4%EC%8D%AC%20Express%20-%20Chapter9.%20GUI%20%ED%94%84%EB%A1%9C%EA%B7%B8%EB%9E%98%EB%B0%8D%20%EC%97%B0%EC%8A%B5%EB%AC%B8%EC%A0%9C.ipynb\" target=\"_parent\"><img src=\"https://colab.research.google.com/assets/colab-badge.svg\" alt=\"Open In Colab\"/></a>"
      ]
    },
    {
      "cell_type": "code",
      "execution_count": null,
      "metadata": {
        "colab": {
          "base_uri": "https://localhost:8080/",
          "height": 377
        },
        "id": "lcbfuEtqPT-m",
        "outputId": "b1079e24-e041-41fc-fa6b-8e3b28629907"
      },
      "outputs": [
        {
          "output_type": "error",
          "ename": "TclError",
          "evalue": "ignored",
          "traceback": [
            "\u001b[0;31m---------------------------------------------------------------------------\u001b[0m",
            "\u001b[0;31mTclError\u001b[0m                                  Traceback (most recent call last)",
            "\u001b[0;32m<ipython-input-3-4371d56f3532>\u001b[0m in \u001b[0;36m<cell line: 3>\u001b[0;34m()\u001b[0m\n\u001b[1;32m      1\u001b[0m \u001b[0;32mfrom\u001b[0m \u001b[0mtkinter\u001b[0m \u001b[0;32mimport\u001b[0m \u001b[0;34m*\u001b[0m \u001b[0;31m#tkinter 모듈을 포함\u001b[0m\u001b[0;34m\u001b[0m\u001b[0;34m\u001b[0m\u001b[0m\n\u001b[1;32m      2\u001b[0m \u001b[0;34m\u001b[0m\u001b[0m\n\u001b[0;32m----> 3\u001b[0;31m \u001b[0mwindow\u001b[0m \u001b[0;34m=\u001b[0m \u001b[0mTk\u001b[0m\u001b[0;34m(\u001b[0m\u001b[0;34m)\u001b[0m \u001b[0;31m#루트 윈도우를 생성\u001b[0m\u001b[0;34m\u001b[0m\u001b[0;34m\u001b[0m\u001b[0m\n\u001b[0m\u001b[1;32m      4\u001b[0m \u001b[0mlabel\u001b[0m\u001b[0;34m=\u001b[0m\u001b[0mLabel\u001b[0m\u001b[0;34m(\u001b[0m\u001b[0mwindow\u001b[0m\u001b[0;34m,\u001b[0m \u001b[0mtext\u001b[0m\u001b[0;34m=\u001b[0m\u001b[0;34m\"Hello tkinter\"\u001b[0m\u001b[0;34m)\u001b[0m \u001b[0;31m#레이블 위젯을 생성\u001b[0m\u001b[0;34m\u001b[0m\u001b[0;34m\u001b[0m\u001b[0m\n\u001b[1;32m      5\u001b[0m \u001b[0mlabel\u001b[0m\u001b[0;34m.\u001b[0m\u001b[0mpack\u001b[0m\u001b[0;34m(\u001b[0m\u001b[0;34m)\u001b[0m \u001b[0;31m#레이블 위젯을 윈도우에 배치\u001b[0m\u001b[0;34m\u001b[0m\u001b[0;34m\u001b[0m\u001b[0m\n",
            "\u001b[0;32m/usr/lib/python3.10/tkinter/__init__.py\u001b[0m in \u001b[0;36m__init__\u001b[0;34m(self, screenName, baseName, className, useTk, sync, use)\u001b[0m\n\u001b[1;32m   2300\u001b[0m                 \u001b[0mbaseName\u001b[0m \u001b[0;34m=\u001b[0m \u001b[0mbaseName\u001b[0m \u001b[0;34m+\u001b[0m \u001b[0mext\u001b[0m\u001b[0;34m\u001b[0m\u001b[0;34m\u001b[0m\u001b[0m\n\u001b[1;32m   2301\u001b[0m         \u001b[0minteractive\u001b[0m \u001b[0;34m=\u001b[0m \u001b[0;32mFalse\u001b[0m\u001b[0;34m\u001b[0m\u001b[0;34m\u001b[0m\u001b[0m\n\u001b[0;32m-> 2302\u001b[0;31m         \u001b[0mself\u001b[0m\u001b[0;34m.\u001b[0m\u001b[0mtk\u001b[0m \u001b[0;34m=\u001b[0m \u001b[0m_tkinter\u001b[0m\u001b[0;34m.\u001b[0m\u001b[0mcreate\u001b[0m\u001b[0;34m(\u001b[0m\u001b[0mscreenName\u001b[0m\u001b[0;34m,\u001b[0m \u001b[0mbaseName\u001b[0m\u001b[0;34m,\u001b[0m \u001b[0mclassName\u001b[0m\u001b[0;34m,\u001b[0m \u001b[0minteractive\u001b[0m\u001b[0;34m,\u001b[0m \u001b[0mwantobjects\u001b[0m\u001b[0;34m,\u001b[0m \u001b[0museTk\u001b[0m\u001b[0;34m,\u001b[0m \u001b[0msync\u001b[0m\u001b[0;34m,\u001b[0m \u001b[0muse\u001b[0m\u001b[0;34m)\u001b[0m\u001b[0;34m\u001b[0m\u001b[0;34m\u001b[0m\u001b[0m\n\u001b[0m\u001b[1;32m   2303\u001b[0m         \u001b[0;32mif\u001b[0m \u001b[0museTk\u001b[0m\u001b[0;34m:\u001b[0m\u001b[0;34m\u001b[0m\u001b[0;34m\u001b[0m\u001b[0m\n\u001b[1;32m   2304\u001b[0m             \u001b[0mself\u001b[0m\u001b[0;34m.\u001b[0m\u001b[0m_loadtk\u001b[0m\u001b[0;34m(\u001b[0m\u001b[0;34m)\u001b[0m\u001b[0;34m\u001b[0m\u001b[0;34m\u001b[0m\u001b[0m\n",
            "\u001b[0;31mTclError\u001b[0m: no display name and no $DISPLAY environment variable"
          ]
        }
      ],
      "source": [
        "from tkinter import * #tkinter 모듈을 포함\n",
        "\n",
        "window = Tk() #루트 윈도우를 생성\n",
        "label=Label(window, text=\"Hello tkinter\") #레이블 위젯을 생성\n",
        "label.pack() #레이블 위젯을 윈도우에 배치\n",
        "\n",
        "window.mainloop() #윈도우가 사용자 동작을 대기"
      ]
    },
    {
      "cell_type": "code",
      "source": [
        "from tkinter import *\n",
        "window=Tk()\n",
        "\n",
        "button=Button(window, text=\"클릭하세요!\", bg=\"yellow\", fg=\"blue\", width=80, height=2) #전경색, 배경색, 크기 설정\n",
        "button.pack()\n",
        "window.mainloop()"
      ],
      "metadata": {
        "id": "XcR0cGXDPvrD",
        "colab": {
          "base_uri": "https://localhost:8080/",
          "height": 377
        },
        "outputId": "5f9c34a2-96ab-488f-d6a5-1152d2244ed0"
      },
      "execution_count": null,
      "outputs": [
        {
          "output_type": "error",
          "ename": "TclError",
          "evalue": "ignored",
          "traceback": [
            "\u001b[0;31m---------------------------------------------------------------------------\u001b[0m",
            "\u001b[0;31mTclError\u001b[0m                                  Traceback (most recent call last)",
            "\u001b[0;32m<ipython-input-4-eb4e68de1623>\u001b[0m in \u001b[0;36m<cell line: 2>\u001b[0;34m()\u001b[0m\n\u001b[1;32m      1\u001b[0m \u001b[0;32mfrom\u001b[0m \u001b[0mtkinter\u001b[0m \u001b[0;32mimport\u001b[0m \u001b[0;34m*\u001b[0m\u001b[0;34m\u001b[0m\u001b[0;34m\u001b[0m\u001b[0m\n\u001b[0;32m----> 2\u001b[0;31m \u001b[0mwindow\u001b[0m\u001b[0;34m=\u001b[0m\u001b[0mTk\u001b[0m\u001b[0;34m(\u001b[0m\u001b[0;34m)\u001b[0m\u001b[0;34m\u001b[0m\u001b[0;34m\u001b[0m\u001b[0m\n\u001b[0m\u001b[1;32m      3\u001b[0m \u001b[0;34m\u001b[0m\u001b[0m\n\u001b[1;32m      4\u001b[0m \u001b[0mbutton\u001b[0m\u001b[0;34m=\u001b[0m\u001b[0mButton\u001b[0m\u001b[0;34m(\u001b[0m\u001b[0mwindow\u001b[0m\u001b[0;34m,\u001b[0m \u001b[0mtext\u001b[0m\u001b[0;34m=\u001b[0m\u001b[0;34m\"클릭하세요!\"\u001b[0m\u001b[0;34m,\u001b[0m \u001b[0mbg\u001b[0m\u001b[0;34m=\u001b[0m\u001b[0;34m\"yellow\"\u001b[0m\u001b[0;34m,\u001b[0m \u001b[0mfg\u001b[0m\u001b[0;34m=\u001b[0m\u001b[0;34m\"blue\"\u001b[0m\u001b[0;34m,\u001b[0m \u001b[0mwidth\u001b[0m\u001b[0;34m=\u001b[0m\u001b[0;36m80\u001b[0m\u001b[0;34m,\u001b[0m \u001b[0mheight\u001b[0m\u001b[0;34m=\u001b[0m\u001b[0;36m2\u001b[0m\u001b[0;34m)\u001b[0m \u001b[0;31m#전경색, 배경색, 크기 설정\u001b[0m\u001b[0;34m\u001b[0m\u001b[0;34m\u001b[0m\u001b[0m\n\u001b[1;32m      5\u001b[0m \u001b[0mbutton\u001b[0m\u001b[0;34m.\u001b[0m\u001b[0mpack\u001b[0m\u001b[0;34m(\u001b[0m\u001b[0;34m)\u001b[0m\u001b[0;34m\u001b[0m\u001b[0;34m\u001b[0m\u001b[0m\n",
            "\u001b[0;32m/usr/lib/python3.10/tkinter/__init__.py\u001b[0m in \u001b[0;36m__init__\u001b[0;34m(self, screenName, baseName, className, useTk, sync, use)\u001b[0m\n\u001b[1;32m   2300\u001b[0m                 \u001b[0mbaseName\u001b[0m \u001b[0;34m=\u001b[0m \u001b[0mbaseName\u001b[0m \u001b[0;34m+\u001b[0m \u001b[0mext\u001b[0m\u001b[0;34m\u001b[0m\u001b[0;34m\u001b[0m\u001b[0m\n\u001b[1;32m   2301\u001b[0m         \u001b[0minteractive\u001b[0m \u001b[0;34m=\u001b[0m \u001b[0;32mFalse\u001b[0m\u001b[0;34m\u001b[0m\u001b[0;34m\u001b[0m\u001b[0m\n\u001b[0;32m-> 2302\u001b[0;31m         \u001b[0mself\u001b[0m\u001b[0;34m.\u001b[0m\u001b[0mtk\u001b[0m \u001b[0;34m=\u001b[0m \u001b[0m_tkinter\u001b[0m\u001b[0;34m.\u001b[0m\u001b[0mcreate\u001b[0m\u001b[0;34m(\u001b[0m\u001b[0mscreenName\u001b[0m\u001b[0;34m,\u001b[0m \u001b[0mbaseName\u001b[0m\u001b[0;34m,\u001b[0m \u001b[0mclassName\u001b[0m\u001b[0;34m,\u001b[0m \u001b[0minteractive\u001b[0m\u001b[0;34m,\u001b[0m \u001b[0mwantobjects\u001b[0m\u001b[0;34m,\u001b[0m \u001b[0museTk\u001b[0m\u001b[0;34m,\u001b[0m \u001b[0msync\u001b[0m\u001b[0;34m,\u001b[0m \u001b[0muse\u001b[0m\u001b[0;34m)\u001b[0m\u001b[0;34m\u001b[0m\u001b[0;34m\u001b[0m\u001b[0m\n\u001b[0m\u001b[1;32m   2303\u001b[0m         \u001b[0;32mif\u001b[0m \u001b[0museTk\u001b[0m\u001b[0;34m:\u001b[0m\u001b[0;34m\u001b[0m\u001b[0;34m\u001b[0m\u001b[0m\n\u001b[1;32m   2304\u001b[0m             \u001b[0mself\u001b[0m\u001b[0;34m.\u001b[0m\u001b[0m_loadtk\u001b[0m\u001b[0;34m(\u001b[0m\u001b[0;34m)\u001b[0m\u001b[0;34m\u001b[0m\u001b[0;34m\u001b[0m\u001b[0m\n",
            "\u001b[0;31mTclError\u001b[0m: no display name and no $DISPLAY environment variable"
          ]
        }
      ]
    },
    {
      "cell_type": "code",
      "source": [
        "from tkinter import *\n",
        "window=Tk()\n",
        "\n",
        "entry=Entry(window, fg=\"black\", bg=\"yellow\", width=80)\n",
        "\n",
        "entry.pack()\n",
        "window.mainloop()"
      ],
      "metadata": {
        "id": "4hFwU0hOYCtI"
      },
      "execution_count": null,
      "outputs": []
    },
    {
      "cell_type": "code",
      "source": [
        "from tkinter import *\n",
        "window=Tk()\n",
        "\n",
        "Button(window, text=\"박스 #1\", bg=\"red\", fg=\"white\").pack()\n",
        "Button(window, text=\"박스 #2\", bg=\"green\", fg=\"black\").pack()\n",
        "Button(window, text=\"박스 #3\", bg=\"orange\", fg=\"white\").pack()\n",
        "\n",
        "window.mainloop()"
      ],
      "metadata": {
        "id": "bUcMXUFkZrJ1"
      },
      "execution_count": null,
      "outputs": []
    },
    {
      "cell_type": "code",
      "source": [
        "Button(window, text=\"박스 #1\", bg=\"red\", fg=\"white\").pack(side=LEFT)\n",
        "Button(window, text=\"박스 #2\", bg=\"green\", fg=\"black\").pack(side=LEFT)\n",
        "Button(window, text=\"박스 #3\", bg=\"orange\", fg=\"white\").pack(side=LEFT)"
      ],
      "metadata": {
        "id": "IhbZHRnoaSw1"
      },
      "execution_count": null,
      "outputs": []
    },
    {
      "cell_type": "code",
      "source": [
        "#4개의 버튼을 격자 모양으로 배치하기\n",
        "from tkinter import *\n",
        "window=Tk()\n",
        "\n",
        "b1=Button(window, text=\"박스 #1\", bg=\"red\", fg=\"white\")\n",
        "b2=Button(window, text=\"박스 #2\", bg=\"green\", fg=\"white\")\n",
        "b3=Button(window, text=\"박스 #3\", bg=\"orange\", fg=\"white\")\n",
        "b4=Button(window, text=\"박스 #4\", bg=\"pink\", fg=\"white\")\n",
        "\n",
        "b1.grid(row=0, column=0) #0행 0열\n",
        "b2.grid(row=0, column=1)\n",
        "b3.grid(row=1, column=0)\n",
        "b4.grid(row=1, column=1)\n",
        "\n",
        "window.mainloop()"
      ],
      "metadata": {
        "id": "ExFwOHxXwlbw"
      },
      "execution_count": null,
      "outputs": []
    },
    {
      "cell_type": "code",
      "source": [
        "from tkinter import *\n",
        "\n",
        "window=Tk()\n",
        "\n",
        "b1=Button(window, text=\"박스 #1\", bg=\"red\", fg=\"white\")\n",
        "b1.place(x=9, y=0)\n",
        "b2=Button(window, text=\"박스 #2\", bg=\"green\", fg=\"black\")\n",
        "b2.place(x=20, y=30)\n",
        "b3=Button(window, text=\"박스 #3\", bg=\"orange\", fg=\"white\")\n",
        "b3.place(x=40, y=60)\n",
        "\n",
        "window.mainloop()"
      ],
      "metadata": {
        "id": "38VAkRBLxwuG"
      },
      "execution_count": null,
      "outputs": []
    },
    {
      "cell_type": "code",
      "source": [
        "#여러 배치 관리자 혼용하기\n",
        "from tkinter import *\n",
        "\n",
        "window=Tk()\n",
        "f=Frame(window) #윈도우 안에 프레임 만들기\n",
        "\n",
        "#프레임 안에 버튼 만들기\n",
        "b1=Button(f, text=\"박스 #1\", bg=\"red\", fg=\"white\")\n",
        "b2=Button(f, text=\"박스 #2\", bg=\"green\", fg=\"black\")\n",
        "b3=Button(f, text=\"박스 #3\", bg=\"orange\", fg=\"white\")\n",
        "b1.pack(side=LEFT)\n",
        "b2.pack(side=LEFT)\n",
        "b3.pack(side=LEFT)\n",
        "\n",
        "l=Label(window, text=\"이 레이블은 버튼들 위에 배치된다.\")\n",
        "l.pack() #레이블을 루트 윈도우에 압축 배치 관리자로 배치\n",
        "f.pack() #프레임을 루트 윈도우에 압축 배치 관리자로 배치\n",
        "\n",
        "window.mainloop()"
      ],
      "metadata": {
        "id": "A-EVJzyH0C4W"
      },
      "execution_count": null,
      "outputs": []
    },
    {
      "cell_type": "code",
      "source": [
        "from tkinter import *\n",
        "\n",
        "window=Tk()\n",
        "window.geometry(\"600x100\") #width X Height\n",
        "\n",
        "Button(window, text=\"박스 #1\", width=10, height=1).pack()\n",
        "Button(window, text=\"박스 #2\", width=10, height=1).pack()\n",
        "Button(window, text=\"박스 #3\", width=10, height=1).pack()\n",
        "\n",
        "window.mainloop()"
      ],
      "metadata": {
        "id": "Af7GRyJV6vEJ"
      },
      "execution_count": null,
      "outputs": []
    },
    {
      "cell_type": "code",
      "source": [
        "#LAB: 온도 변환기\n",
        "from tkinter import *\n",
        "\n",
        "window=Tk()\n",
        "\n",
        "Label(window, text=\"화씨\").grid(row=0, column=0)\n",
        "Label(window, text=\"섭씨\").grid(row=1, column=0)\n",
        "\n",
        "e1=Entry(window).grid(row=0, column=1)\n",
        "e2=Entry(window).grid(row=1, column=1)\n",
        "\n",
        "Button(window, text=\"화씨->섭씨\").grid(row=2, column=1, sticky=W+E+N+S)\n",
        "window.mainloop()"
      ],
      "metadata": {
        "id": "BYaKBQMt7p3H"
      },
      "execution_count": null,
      "outputs": []
    },
    {
      "cell_type": "code",
      "source": [
        "#격자 배치 관리자 실습\n",
        "#유연한 격자 배치 관리자 실습\n",
        "\n",
        "from tkinter import *\n",
        "\n",
        "window = Tk()\n",
        "\n",
        "#레이블 생성\n",
        "Label(window, text=\"너비\").grid(row=0)\n",
        "Label(window, text=\"높이\").grid(row=1)\n",
        "\n",
        "#엔트리 생성\n",
        "e1=Entry(window)\n",
        "e2=Entry(window)\n",
        "\n",
        "e1.grid(row=0, column=1)\n",
        "e2.grid(row=1, column=1)\n",
        "\n",
        "#이미지를 가진 레이블을 생성하여 2열과 2행에 걸쳐서 표시\n",
        "photo=PhotoImage(file=\"d://fig3.png\")\n",
        "label=Label(window, image=photo)\n",
        "label.grid(row=0, column=2, cloumnspan=2, rowspan=2)\n",
        "\n",
        "#첫 번재 버튼은 2열에 걸쳐서 표시\n",
        "Button(window, text='이미지 저장').grid(row=2, column=0, columnspan=2)\n",
        "\n",
        "#두 번째 버튼과 세 버ㄴ재 버튼은 2열과 3열에 표시\n",
        "Button(window, text='확대').grid(row=2, column=2)\n",
        "Button(window, text='축소').grid(row=2, column=3)\n",
        "\n",
        "window.mainloop()"
      ],
      "metadata": {
        "id": "vxpZnFSH9Zp7"
      },
      "execution_count": null,
      "outputs": []
    },
    {
      "cell_type": "code",
      "source": [
        "from tkinter import *\n",
        "\n",
        "def process():\n",
        "  print(\"버튼이 클릭되었습니다.\")\n",
        "\n",
        "window=Tk()\n",
        "button=Button(window, text=\"클릭하세요!\", command=process)\n",
        "button.pack()\n",
        "window.mainloop()"
      ],
      "metadata": {
        "id": "asa5_OwAOWak"
      },
      "execution_count": null,
      "outputs": []
    },
    {
      "cell_type": "code",
      "source": [
        "#LAB: 카운터 만들기\n",
        "#증가버튼 누르면 카운터가 1 증가됨\n",
        "from tkinter import *\n",
        "window=Tk()\n",
        "\n",
        "counter=0\n",
        "\n",
        "def clicked():\n",
        "  global counter #전역변수 counter 사용\n",
        "  counter+=1\n",
        "  label['text']='버튼 클릭 횟수: '+str(counter)\n",
        "  #레이블 객체가 가진 'text'속성은 딕셔너리처럼 찾을 수 있음\n",
        "\n",
        "label=Label(window, text=\"아직 눌러지지 않음\")\n",
        "label.pack()\n",
        "button=Button(window, text=\"증가\", command=clicked).pack()\n",
        "window.mainloop()"
      ],
      "metadata": {
        "id": "N8_yjvCyPSOq",
        "colab": {
          "base_uri": "https://localhost:8080/",
          "height": 377
        },
        "outputId": "59f3dbdd-1b30-4038-b0d3-c71218581c32"
      },
      "execution_count": null,
      "outputs": [
        {
          "output_type": "error",
          "ename": "TclError",
          "evalue": "ignored",
          "traceback": [
            "\u001b[0;31m---------------------------------------------------------------------------\u001b[0m",
            "\u001b[0;31mTclError\u001b[0m                                  Traceback (most recent call last)",
            "\u001b[0;32m<ipython-input-5-067cbe6ac7a7>\u001b[0m in \u001b[0;36m<cell line: 4>\u001b[0;34m()\u001b[0m\n\u001b[1;32m      2\u001b[0m \u001b[0;31m#증가버튼 누르면 카운터가 1 증가됨\u001b[0m\u001b[0;34m\u001b[0m\u001b[0;34m\u001b[0m\u001b[0m\n\u001b[1;32m      3\u001b[0m \u001b[0;32mfrom\u001b[0m \u001b[0mtkinter\u001b[0m \u001b[0;32mimport\u001b[0m \u001b[0;34m*\u001b[0m\u001b[0;34m\u001b[0m\u001b[0;34m\u001b[0m\u001b[0m\n\u001b[0;32m----> 4\u001b[0;31m \u001b[0mwindow\u001b[0m\u001b[0;34m=\u001b[0m\u001b[0mTk\u001b[0m\u001b[0;34m(\u001b[0m\u001b[0;34m)\u001b[0m\u001b[0;34m\u001b[0m\u001b[0;34m\u001b[0m\u001b[0m\n\u001b[0m\u001b[1;32m      5\u001b[0m \u001b[0;34m\u001b[0m\u001b[0m\n\u001b[1;32m      6\u001b[0m \u001b[0mcounter\u001b[0m\u001b[0;34m=\u001b[0m\u001b[0;36m0\u001b[0m\u001b[0;34m\u001b[0m\u001b[0;34m\u001b[0m\u001b[0m\n",
            "\u001b[0;32m/usr/lib/python3.10/tkinter/__init__.py\u001b[0m in \u001b[0;36m__init__\u001b[0;34m(self, screenName, baseName, className, useTk, sync, use)\u001b[0m\n\u001b[1;32m   2300\u001b[0m                 \u001b[0mbaseName\u001b[0m \u001b[0;34m=\u001b[0m \u001b[0mbaseName\u001b[0m \u001b[0;34m+\u001b[0m \u001b[0mext\u001b[0m\u001b[0;34m\u001b[0m\u001b[0;34m\u001b[0m\u001b[0m\n\u001b[1;32m   2301\u001b[0m         \u001b[0minteractive\u001b[0m \u001b[0;34m=\u001b[0m \u001b[0;32mFalse\u001b[0m\u001b[0;34m\u001b[0m\u001b[0;34m\u001b[0m\u001b[0m\n\u001b[0;32m-> 2302\u001b[0;31m         \u001b[0mself\u001b[0m\u001b[0;34m.\u001b[0m\u001b[0mtk\u001b[0m \u001b[0;34m=\u001b[0m \u001b[0m_tkinter\u001b[0m\u001b[0;34m.\u001b[0m\u001b[0mcreate\u001b[0m\u001b[0;34m(\u001b[0m\u001b[0mscreenName\u001b[0m\u001b[0;34m,\u001b[0m \u001b[0mbaseName\u001b[0m\u001b[0;34m,\u001b[0m \u001b[0mclassName\u001b[0m\u001b[0;34m,\u001b[0m \u001b[0minteractive\u001b[0m\u001b[0;34m,\u001b[0m \u001b[0mwantobjects\u001b[0m\u001b[0;34m,\u001b[0m \u001b[0museTk\u001b[0m\u001b[0;34m,\u001b[0m \u001b[0msync\u001b[0m\u001b[0;34m,\u001b[0m \u001b[0muse\u001b[0m\u001b[0;34m)\u001b[0m\u001b[0;34m\u001b[0m\u001b[0;34m\u001b[0m\u001b[0m\n\u001b[0m\u001b[1;32m   2303\u001b[0m         \u001b[0;32mif\u001b[0m \u001b[0museTk\u001b[0m\u001b[0;34m:\u001b[0m\u001b[0;34m\u001b[0m\u001b[0;34m\u001b[0m\u001b[0m\n\u001b[1;32m   2304\u001b[0m             \u001b[0mself\u001b[0m\u001b[0;34m.\u001b[0m\u001b[0m_loadtk\u001b[0m\u001b[0;34m(\u001b[0m\u001b[0;34m)\u001b[0m\u001b[0;34m\u001b[0m\u001b[0;34m\u001b[0m\u001b[0m\n",
            "\u001b[0;31mTclError\u001b[0m: no display name and no $DISPLAY environment variable"
          ]
        }
      ]
    },
    {
      "cell_type": "code",
      "source": [
        "#LAB: 온도 변환기 #2\n",
        "#온도는 사용자가 엔트리 위젯을 통하여 입력하고 이것을 get()이라는 메소드로 가져오면 됨\n",
        "#t=e1.get()\n",
        "#반대로 엔트리 위젯에 어떤 값을 쓰려면 insert() 함수 사용\n",
        "#엔트리에 기존의 문자열이 있다면 먼저 지우고 새로운 문자열 추가해야 함\n",
        "#e2.delete(0, end)\n",
        "#e2.insert(0, str(tc))\n",
        "\n",
        "from tkinter import *\n",
        "\n",
        "#이벤트 처리 함수 정의\n",
        "def process():\n",
        "  tf=float(e1.get()) #e1에서 문자열을 읽어서 부동소수점형으로 변경\n",
        "  tc=(tf-32.0)*5.0/9.0 #화씨 온도를 섭씨 온도로 변환\n",
        "  e2.delete(0, END) #처음부터 끝까지 지움\n",
        "  e2.insert(0, str(tc)) #tc 변수의 값을 문자열로 변환하여 추가\n",
        "\n",
        "window=Tk()\n",
        "\n",
        "Label(window, text=\"화씨\").grid(row=0, column=0)\n",
        "Label(window, text=\"섭씨\").grid(row=1, column=0)\n",
        "\n",
        "e1=Entry(window)\n",
        "e2=Entry(window)\n",
        "e1.grid(row=0, column=1)\n",
        "e2.grid(row=1, column=1)\n",
        "\n",
        "Button(window, text=\"화씨->섭씨\", command=process).grid(row=2, column=1)\n",
        "window.mainloop()"
      ],
      "metadata": {
        "id": "CgtdrHYItrJL"
      },
      "execution_count": null,
      "outputs": []
    },
    {
      "cell_type": "code",
      "source": [
        "#LAB: 숫자 추측 게임\n",
        "#사용자가 컴퓨터가 생성한 숫자 (1부터 100사이의 난수)를 알아맞히는 게임을 GUI 사용해 제작하기\n",
        "\n",
        "from tkinter import *\n",
        "import random\n",
        "\n",
        "answer=random.randint(1, 100) #정답을 1에서 100 사이의 난수로 설정\n",
        "\n",
        "def guessing():\n",
        "  guess=int(guessField.get()) #텍스트 필드에서 사용자가 입력한 값 가져오기\n",
        "\n",
        "  if guess>answer:\n",
        "    msg=\"높음!\"\n",
        "  elif guess<answer:\n",
        "    msg=\"낮음!\"\n",
        "  else:\n",
        "    msg=\"정답!\"\n",
        "\n",
        "  resultLabel[\"text\"]=msg #메시지 출력\n",
        "  guessField.delete(0, 5)\n",
        "\n",
        "def reset(): #정답 다시 설정\n",
        "  global answer\n",
        "  answer=random.randint(1, 100)\n",
        "  resultLabel[\"text\"]=\"다시 한번 하세요!\"\n",
        "\n",
        "window=Tk()\n",
        "window.configure(bg=\"white\")\n",
        "window.title(\"숫자를 맞춰보세요!\")\n",
        "window.geometry(\"500x80\")\n",
        "\n",
        "titleLabel=Label(window, text=\"숫자 게임에 오신 것을 환영합니다!\", bg=\"white\")\n",
        "titleLabel.pack()\n",
        "\n",
        "guessField=Entry(window)\n",
        "guessField.pack(side=\"left\")\n",
        "tryButton=Button(window, text=\"시도\", fg=\"green\", bg=\"white\", command=guessing)\n",
        "tryButton.pack(side=\"left\")\n",
        "\n",
        "resetButton=Button(window, text=\"초기화\", fg=\"red\", bg=\"white\", command=reset)\n",
        "resetButton.pack(side=\"left\")\n",
        "resultLabel=Label(window, text=\"1부터 100사이의 숫자를 입력하시오.\", bg=\"white\")\n",
        "resultLabel.pack(side=\"left\")\n",
        "\n",
        "window.mainloop()"
      ],
      "metadata": {
        "id": "NSIUwIFbxm9_"
      },
      "execution_count": null,
      "outputs": []
    },
    {
      "cell_type": "code",
      "source": [
        " #LAB: 가위, 바위, 보 게임\n",
        "#문자열 중에서 하나 랜덤하게 선택하기: computer=random.chooice([\"가위\", \"바위\", \"보\"])\n",
        "\n",
        "import random\n",
        "from tkinter import *\n",
        "window=Tk()\n",
        "Label(window, text=\"선택하세요\", font=(\"Helvetica\", \"16\")).pack()\n",
        "frame=Frame(window)\n",
        "\n",
        "#이미지를 읽어서 객체로 만들기\n",
        "rock_image=PhotoImagge(file=\"rock.png\")\n",
        "paper_image=PhotoImage(file=\"papaer.png\")\n",
        "scissors_image=PhotoImage(file=\"scissors.png\")\n",
        "\n",
        "#이미지 버튼을 생성\n",
        "drock.Button(frame, image=rock_image, command=0,isplay.grid(row)=pass_r)\n",
        "b\n",
        "rock.pack(side=\"left\")\n",
        "paper=Button(frame, image=paper_image, command=pass_p)\n",
        "paper.pack(side=\"left\")\n",
        "scissors=Button(frame, image=scissors_image, command=pass_s)\n",
        "scissors.pack(side=\"left\")\n",
        "\n",
        "#정보를 표시하는 레이블 생성\n",
        "frame.pack()\n",
        "Label(window, text=\"컴퓨터는 다음을 선택하였습니다.\", font=(\"Helvetica\", \"16\")).pack()\n",
        "computer_image=Label(window, image=rock_image)\n",
        "\n",
        "buttdiscomputer_iamge.pack()\n",
        "output=Label(window, text=\"\", font=(\"Helvetica\", \"16\"))\n",
        "output.pack()\n",
        "\n",
        "#컴퓨터가 랜덤하게 하나를 고름. 레이블의 이미지를 적절하게 수행\n",
        "def decide(human):\n",
        "  computer=random.choice([\"가위\", \"바위\", \"보\"])\n",
        "  if computer==\"바위\":\n",
        "    computer_image[\"image\"]=rock_image\n",
        "  elif computer==\"보\":\n",
        "    computer_image[\"image\"]=paper_image\n",
        "  else:\n",
        "    computer_image[\"image\"]=scissors_image\n",
        "\n",
        "  if (computer==\"바위\" and human==\"보\") or (computer==\"보\" and human==\"가위\") or (computer==\"가위\" and human==\"바위\"):\n",
        "    result=\"인간 승리!\"\n",
        "  elif computer==human:\n",
        "    result=\"비겼습니다.\"\n",
        "  else:\n",
        "    result=\"컴퓨터 승리!\"\n",
        "  output.config(text=\"인간: \"+human+\" 컴퓨터:\"+computer+\" \"+result) #승리 또는 패배 판단\n",
        "\n",
        "#사용자가 버튼을 누르면 호출되는 콜백 메소드\n",
        "def pass_s():\n",
        "  decide(\"가위\")\n",
        "def pass_r():\n",
        "  decide(\"바위\")\n",
        "def pass_p():\n",
        "  decide(\"보\")\n",
        "\n",
        "window.mainloop()"
      ],
      "metadata": {
        "id": "-WygzdAU0HmC"
      },
      "execution_count": null,
      "outputs": []
    },
    {
      "cell_type": "code",
      "source": [
        "#LAB: TIC-TAC-TOE 게임\n",
        "#버튼 9개 생성하여 화면에 배치하기\n",
        "#사용자가 버튼을 클릭하면 버튼의 텍스트를 X나 O로 변경하기\n",
        "#9개의 버튼은 격자 배치 관리자를 이용하여 화면에 격자 모양으로 배치하기\n",
        "#반복문 이용해서 9번 반복하면서 버튼 객체 생성\n",
        "#새엉된 객체는 리스트에 순서대로 저장하기\n",
        "\n",
        "window=Tk()\n",
        "player=\"X\"\n",
        "list=[]\n",
        "\n",
        "for i in range(9):\n",
        "  b=Button(window, text=\"         \", command=lambda k=i: checked(k))\n",
        "  b.grid(row=i//3, column=i%3)\n",
        "  list.append(b)\n",
        "\n",
        "#람다식은 함수를 객체로 만들어서 저장하는 것\n",
        "#변수 i의 값을 k로 전달하고 이것을 가지고 checked(k)를 호출하도록 함수를 생성하여 command에 저장하는 것\n",
        "#버튼이 클릭되면 버튼의 번호에 따라서 check(0), check(1)... 등이 자동으로 호출됨\n",
        "\n",
        "#checked()함수 정의\n",
        "\n",
        "def checked(i):\n",
        "  global player\n",
        "  button=list[i]\n",
        "  if button[\"text\"]!=\"         \":\n",
        "    return\n",
        "  button[\"text\"]=\"   \"+player+\"   \"\n",
        "  button[\"bg\"]=\"yellow\"\n",
        "  if player==\"X\":\n",
        "    player=\"O\"\n",
        "    button[\"bg\"]=\"yellow\"\n",
        "  else:\n",
        "    player=\"X\"\n",
        "    button[\"bg\"]=\"lightgreen\"\n",
        "\n",
        "#checked() 함수에서는 리스트에서 i번째 버튼 객체를 찾아서 버튼의 텍스트를 \"X\" 또는 \"O\"로 변경\n",
        "#버튼의 배경색도 적절하게 변경\n",
        "#한번 호출될 때마다 player 변수는 토글됨\n"
      ],
      "metadata": {
        "id": "Grh8FuAz6QwA"
      },
      "execution_count": null,
      "outputs": []
    },
    {
      "cell_type": "code",
      "source": [
        "from tkinter import *\n",
        "\n",
        "#i번째 버튼을 누를 수 있는지 검사. 누를 수 있으면 X나 O표시 하기\n",
        "def checked(i):\n",
        "  global player\n",
        "  button = list[i] #리스트에서 i번째 객체 가져오기\n",
        "\n",
        "  #버튼이 초기상태가 아니면 이미 누른 버튼이므로 아무것도 하지 않고 리턴\n",
        "  if button[\"text\"]!=\"         \":\n",
        "    return\n",
        "  button[\"text\"]=\"   \"+player+\"   \"\n",
        "  if player==\"X\":\n",
        "    plyaer=\"O\"\n",
        "    button[\"bg\"]=\"yellow\"\n",
        "  else:\n",
        "    plyaer=\"X\"\n",
        "    button[\"bg\"]=\"lightgreen\"\n",
        "\n",
        "window=Tk() #윈도우 생성\n",
        "player=\"X\" #시작은 플레이어 X\n",
        "list=[]\n",
        "\n",
        "#9개의 버튼을 생성하여 격자 형태로 윈도우에 배치\n",
        "for i in range(9):\n",
        "  b=Button(window, text=\"         \", command=lambda k=i: checked(k))\n",
        "  b.grid(row=i//3, column=i%3)\n",
        "  list.append(b) #버튼 객체를 리스트에 저장\n",
        "\n",
        "window.mainloop()"
      ],
      "metadata": {
        "id": "Se0p6DVtUEcC"
      },
      "execution_count": null,
      "outputs": []
    },
    {
      "cell_type": "code",
      "source": [
        "#LAB: 계산기 프로그램\n",
        "from tkinter import *\n",
        "\n",
        "window=Tk()\n",
        "window.title(\"My Calculator\")\n",
        "display=Entry(window, width=33, bg=\"yellow\")\n",
        "display.grid(row=0, column=0, columnspan=5)\n",
        "button_list=[\n",
        "    '7', '8', '9', '/', 'C',\n",
        "    '4', '5', '6', '*', ' ',\n",
        "    '1', '2', '3', '-', ' ',\n",
        "    '0', '.', '=', '+', ' '\n",
        "]\n",
        "\n",
        "def click(key):\n",
        "  if key==\"=\":\n",
        "    result=eval(display.get())\n",
        "    s=str(result)\n",
        "    display.insert(END, \"=\"+s)\n",
        "  else:\n",
        "    display.insert(END, key)\n",
        "\n",
        "row_index=1\n",
        "col_index=0\n",
        "for button_text in button_list:\n",
        "  Button(window, text=button_text, width=5, command=lambda t=button_text: click(t)).grid(row=row_index, column=col_index)\n",
        "  col_index+=1\n",
        "  if col_index>4:\n",
        "    row_index+=1\n",
        "    col_index=0\n",
        "window.mainloop()"
      ],
      "metadata": {
        "colab": {
          "base_uri": "https://localhost:8080/"
        },
        "id": "GQYAQoa_Xx91",
        "outputId": "34980f10-0121-4e6c-ad31-35f00c25989b"
      },
      "execution_count": null,
      "outputs": [
        {
          "output_type": "execute_result",
          "data": {
            "text/plain": [
              "5"
            ]
          },
          "metadata": {},
          "execution_count": 2
        }
      ]
    },
    {
      "cell_type": "code",
      "source": [
        "#캔버스에 사각형 그리는 코드\n",
        "\n",
        "from tkinter import *\n",
        "\n",
        "window=Tk()\n",
        "w=Canvas(window, width=300, height=200)\n",
        "w.pack()\n",
        "\n",
        "w.create_rectangle(50, 25, 200, 100, fill=\"blue\")\n",
        "window.mainloop()"
      ],
      "metadata": {
        "id": "fzN4f3HfYN9Y"
      },
      "execution_count": null,
      "outputs": []
    },
    {
      "cell_type": "code",
      "source": [
        "from tkinter import *\n",
        "\n",
        "window=Tk()\n",
        "\n",
        "w=Canvas(window, width=300, height=200)\n",
        "w.pack()\n",
        "\n",
        "i=w.create_rectangle(50, 25, 200, 100, fill=\"red\")\n",
        "\n",
        "w.coords(i, 0, 0, 100, 100) #좌표 변경\n",
        "w.itemconfig(i, fill=\"blue\") #색상 변경\n",
        "\n",
        "#w.delete(i) #삭제\n",
        "#w.delete(ALL) #모든 항목 삭제\n",
        "window.mainloop()"
      ],
      "metadata": {
        "id": "7MJBevbYfSJj"
      },
      "execution_count": null,
      "outputs": []
    },
    {
      "cell_type": "code",
      "source": [
        "from tkinter import *\n",
        "\n",
        "window=Tk()\n",
        "canvas=Canvas(window, width=600, height=200, bg=\"#afeeee\")\n",
        "canvas.create_text(200, 100, fill=\"darkblue\", font=\"Times 30 italic bold\", text=\"This is a text example\")\n",
        "canvas.pack()\n",
        "window.mainloop()"
      ],
      "metadata": {
        "id": "laimKyffg6Hf"
      },
      "execution_count": null,
      "outputs": []
    },
    {
      "cell_type": "code",
      "source": [
        "from tkinter import *\n",
        "window=Tk()\n",
        "\n",
        "canvas=Canvas(window, width=500, height=300)\n",
        "canvas.pack()\n",
        "\n",
        "img=PhotoImage(file=\"D:\\\\starship.png\")\n",
        "canvas.create_image(20, 20, anchor=NW, image=img)\n",
        "\n",
        "window.mainloop()"
      ],
      "metadata": {
        "id": "kQD1kN0vjXj7"
      },
      "execution_count": null,
      "outputs": []
    },
    {
      "cell_type": "code",
      "source": [
        "#LAB: 도형 그리기\n",
        "#사용자가 버튼을 클릭하면 해당 도형을 캔버스 위에 그리는 프로그램\n",
        "\n",
        "from tkinter import *\n",
        "\n",
        "WIDTH=600\n",
        "HEIGHT=200\n",
        "def displayRect():\n",
        "  canvas.create_rectangle(10, 10, WIDTH-10, HEIGHT-10)\n",
        "\n",
        "def displayOval():\n",
        "  canvas.create_oval(10, 10, WIDTH-10, HEIGHT-10, fill=\"yellow\")\n",
        "\n",
        "def displayArc():\n",
        "  canvas.create_arc(10, 10, WIDTH-10, HEIGHT-10, start=0, extent=120, width=10, fill='blue')\n",
        "\n",
        "def displayPolygon():\n",
        "  canvas.create_polygon(10, 10, WIDTH-10, HEIGHT-10, 200, 90, 300, 160)\n",
        "\n",
        "def displayLine():\n",
        "  canvas.create_line(10, 10, WIDTH-10, HEIGHT-10, fill='green')\n",
        "\n",
        "def clearCanvas():\n",
        "  canvas.delete(ALL)\n",
        "\n",
        "window=Tk()\n",
        "canvas=Canvas(window, width=WIDTH, height=HEIGHT, bg='white')\n",
        "canvas.pack()\n",
        "frame=Frame(window)\n",
        "frame.pack()\n",
        "\n",
        "btRectangle=Button(frame, text=\"Rectangle\", command=displayRect).grid(row=1, column=2)\n",
        "btOval=Button(frame, text=\"Oval\", command=displayOval).grid(row=1, column=3)\n",
        "btArc=Button(frame, text=\"Arc\", command=displayArc).grid(row=1, column=5)\n",
        "btPolygon=Button(frame, text=\"Polygon\", command=displayPolygon).grid(row=1, column=4)\n",
        "btLine=Button(frame, text=\"Line\", command=displayLine).grid(row=1, column=1)\n",
        "btClear=Button(frame, text=\"Clear\", command=clearCanvas).grid(row=1, column=7)\n",
        "\n",
        "window.mainloop()"
      ],
      "metadata": {
        "id": "eXg-9TShkBSF"
      },
      "execution_count": null,
      "outputs": []
    },
    {
      "cell_type": "code",
      "source": [
        "from tkinter import *\n",
        "\n",
        "window=Tk()\n",
        "window.geometry(\"600x200\")\n",
        "\n",
        "def callback(event):\n",
        "  print(event.x, event.y, \"에서 마우스 이벤트 발생\")\n",
        "\n",
        "window.bind(\"<Button-1>\", callback)\n",
        "window.mainloop()"
      ],
      "metadata": {
        "id": "26EmEoqb_e81"
      },
      "execution_count": null,
      "outputs": []
    },
    {
      "cell_type": "code",
      "source": [
        "from tkinter import *\n",
        "\n",
        "window=Tk()\n",
        "\n",
        "def key(event):\n",
        "  print(repr(event.char), \"가 눌렸습니다.\")\n",
        "\n",
        "def callback(event):\n",
        "  frame.focust_set()\n",
        "  print(event.x, event.y,\"에서 마우스 이벤트 발생\")\n",
        "\n",
        "frame=Frame(window, width=100, height=100)"
      ],
      "metadata": {
        "id": "NKDZXHdyEM6Y"
      },
      "execution_count": null,
      "outputs": []
    },
    {
      "cell_type": "code",
      "source": [
        "#LAB: 그림판 프로그램 만들기\n",
        "from tkinter import *\n",
        "from tkinter.colorchooser import askcolor\n",
        "\n",
        "DEFAULT_PEN_SIZE=1.0\n",
        "DEFAULT_COLOR=\"black\"\n",
        "\n",
        "mode=\"pen\"\n",
        "old_x=None\n",
        "old_y=None\n",
        "mycolor=DEFAULT_COLOR\n",
        "erase_on=False\n",
        "\n",
        "#펜 버튼이 선택되면 모드를 \"pen\"으로 바꿈\n",
        "def use_pen():\n",
        "  global mode\n",
        "  mode=\"pen\"\n",
        "\n",
        "def use_brush(): #브러쉬 버튼이 선택되면 모드를 \"brush\"으로 바꿈\n",
        "  global mode\n",
        "  mode=\"brush\"\n",
        "\n",
        "def choose_color(): #색상 버튼이 선택되면 사용자한테 색상 요구\n",
        "  global mycolor\n",
        "  mycolor=askcolor(color=mycolor)[1]\n",
        "\n",
        "def use_eraser(): #지우개 버튼이 선택되면 모드를 \"erase\"로 바꿈\n",
        "  global mode\n",
        "  mode=\"erase\"\n",
        "\n",
        "def paint(event): #이전 점과 현재 점 사이를 직선으로 연결\n",
        "  global var, erase_on, mode, old_x, old_y\n",
        "  fill_color=\"white\" if mode==\"erase\" else mycolor\n",
        "  if old_x and old_y:\n",
        "    canvas.create_line(old_x, old_y, event.x, event.y,\n",
        "                       capstyle=\"round\", width=var.get(), fill=fill_color)\n",
        "  old_x=event.x\n",
        "  old_y=event.y\n",
        "\n",
        "def reset(event): #사용자가 마우스 버튼에서 손을 떼면 이전 점을 삭제\n",
        "  global old_x, old_y\n",
        "  old_x, old_y=None, None\n",
        "\n",
        "def clear_all(): #캔버스에 그려진 모든 그림을 삭제\n",
        "  global canvas\n",
        "  canvas.delete('all')\n",
        "\n",
        "window=Tk()\n",
        "var=DoubleVar() #슬라이더와 연결될 객체를 생성\n",
        "\n",
        "penButton=Button(window, text=\"펜\", command=use_pen)\n",
        "penButton.grid(row=0, column=0, sticky=W+E)\n",
        "\n",
        "brushButton=Button(window, text=\"브러쉬\", command=use_brush)\n",
        "brushButton.grid(row=0, column=1, sticky=W+E)\n",
        "\n",
        "colorButton=Button(window, text=\"색상선택\", command=choose_color)\n",
        "colorButton.grid(row=0, column=2, sticky=W+E)\n",
        "\n",
        "eraserButton=Button(window, text=\"지우개\", command=use_eraser)\n",
        "eraserButton.grid(row=0, column=3, sticky=W+E)\n",
        "\n",
        "clearButton=Button(window, text=\"모두삭제\", command=clear_all)\n",
        "clearButton.grid(row=0, column=4, sticky=W+E)\n",
        "\n",
        "scale=Scale(window, variable=var, orient=VERTICAL)\n",
        "scale.grid(row=1, column=5, sticky=N+S)\n",
        "\n",
        "canvas=Canvas(window, bg='white', width=600, height=400)\n",
        "canvas.grid(row=1, columnspan=5)\n",
        "\n",
        "canvas.bind('<B1-Motion>', paint)\n",
        "canvas.bind('<ButtonRelease-1>', reset)\n",
        "\n",
        "window.mainloop()\n"
      ],
      "metadata": {
        "id": "BZwrAE2cGTRb"
      },
      "execution_count": null,
      "outputs": []
    },
    {
      "cell_type": "code",
      "source": [
        "#LAB: 공 애니메이션\n",
        "from tkinter import *\n",
        "import time\n",
        "import random\n",
        "\n",
        "window=Tk()\n",
        "\n",
        "canvas=Canvas(window, width=600, height=400)\n",
        "canvas.pack()\n",
        "\n",
        "class Ball():\n",
        "  def __init__(self, color, size):\n",
        "    self.id=canvas.create_oval(0, 0, size, size, fill=color)\n",
        "    self.dx=random.randint(1, 10)\n",
        "    self.dy=random.randint(1, 10)\n",
        "\n",
        "  def move(self):\n",
        "    canvas.move(self.id, self.dx,self.dy)\n",
        "    x0, y0, x1, y1=canvas.coords(self.id)\n",
        "    #원이 위쪽이나 아래쪽으로 벗어났으면 dy의 부호를 반전시킴\n",
        "    if y1>canvas.winfo_height() or y0<0:\n",
        "      self.dy=-self.dy\n",
        "    #원이 왼쪽이나 오른쪽으로 벗어났으면 dx의 부호를 반전시킴\n",
        "    if x1>canvas.winfo_width() or x0<0:\n",
        "      self.dx=-self.dx\n",
        "\n",
        "ball1=Ball(\"blue\", 60)\n",
        "ball2=Ball(\"green\", 100)\n",
        "ball3=Ball(\"orange\", 80)\n",
        "\n",
        "while True:\n",
        "  ball1.move()\n",
        "  ball2.move()\n",
        "  ball3.move()\n",
        "  window.update()\n",
        "  time.sleep(0.05)\n",
        "\n",
        "window.mainloop()"
      ],
      "metadata": {
        "id": "Eh4-fZ3MPgdX"
      },
      "execution_count": null,
      "outputs": []
    },
    {
      "cell_type": "code",
      "source": [
        "#LAB: 공 애니메이션2\n",
        "#공 30개 정도 만들어서 움직이게 하기\n",
        "\n",
        "from tkinter import *\n",
        "import time\n",
        "import random\n",
        "\n",
        "window=Tk()\n",
        "\n",
        "canvas=Canvas(window, width=600, height=400)\n",
        "canvas.pack()\n",
        "\n",
        "class Ball():\n",
        "  def __init__(self, color, size):\n",
        "    self.id=canvas.create_oval(0, 0, size, size, fill=color)\n",
        "    self.dx=random.randint(1, 10)\n",
        "    self.dy=random.randint(1, 10)\n",
        "\n",
        "  def move(self):\n",
        "    canvas.move(self.id, self.dx, self.dy)\n",
        "    x0, y0, x1, y1 = canvas.coords(self.id)\n",
        "    if y1>canvas.winfo_height() or y0<0:\n",
        "      self.dy=-self.dy\n",
        "    if x1>canvas.winfo_width() or x0<0:\n",
        "      self.dx=-self.dx\n",
        "\n",
        "colors=[\"red\", \"orange\", \"yellow\", \"green\", \"blue\", \"indigo\", \"violet\"]\n",
        "ballList=[]\n",
        "for i in range(30):\n",
        "  ballList.append(Ball(random.choice(colors), 60))\n",
        "\n",
        "while True:\n",
        "  for i in range(30):\n",
        "    ballList[i].move()\n",
        "  window.update()\n",
        "  time.sleep(0.05)\n",
        "\n",
        "winow.mainloop()"
      ],
      "metadata": {
        "id": "qJNWFXkzSIcv"
      },
      "execution_count": null,
      "outputs": []
    },
    {
      "cell_type": "markdown",
      "source": [
        "# Programming"
      ],
      "metadata": {
        "id": "YWlXIWds076b"
      }
    },
    {
      "cell_type": "code",
      "source": [
        "#01.\n",
        "\n",
        "from tkinter import *\n",
        "\n",
        "def process():\n",
        "  label[\"text\"]=\"clicked\"\n",
        "\n",
        "window=Tk()\n",
        "\n",
        "label=Label(window, text=\"Hi!\")\n",
        "label.pack(side=LEFT)\n",
        "button=Button(window, text=\"click me\", command=process)\n",
        "button.pack(side=LEFT)\n",
        "window.mainloop()\n"
      ],
      "metadata": {
        "id": "9OTsRC5M07hR"
      },
      "execution_count": null,
      "outputs": []
    },
    {
      "cell_type": "code",
      "source": [
        "#02.\n",
        "from tkinter import *\n",
        "\n",
        "window=Tk()\n",
        "label=Label(window, text=\"Hello, I'm Label\", bg=\"orange\", fg=\"blue\", width=50, height=3)\n",
        "label.pack()\n",
        "window.mainloop()"
      ],
      "metadata": {
        "id": "_bqbIO8CAhHv"
      },
      "execution_count": null,
      "outputs": []
    },
    {
      "cell_type": "code",
      "source": [
        "#03.\n",
        "from tkinter import *\n",
        "\n",
        "window=Tk()\n",
        "\n",
        "row_index=1\n",
        "col_index=0\n",
        "\n",
        "list=[]\n",
        "for row in range(3):\n",
        "  for col in range(10):\n",
        "      Button(window, text=f\"{row}행,{col}열\", width=10).grid(row=row, column=col)\n",
        "      col=0\n",
        "window.mainloop()\n"
      ],
      "metadata": {
        "id": "kaHI7dWdCAak"
      },
      "execution_count": null,
      "outputs": []
    },
    {
      "cell_type": "code",
      "source": [
        "#04.\n",
        "from tkinter import *\n",
        "\n",
        "window=Tk()\n",
        "\n",
        "Label(window, text=\"이름:\").grid(row=0, column=0)\n",
        "Label(window, text=\"주소:\").grid(row=1, column=0)\n",
        "Label(window, text=\"도:\").grid(row=2, column=0)\n",
        "Label(window, text=\"우편번호:\").grid(row=3, column=0)\n",
        "Label(window, text=\"국가:\").grid(row=4, column=0)\n",
        "\n",
        "e1=Entry(window).grid(row=0, column=1, columnspan=4)\n",
        "e2=Entry(window).grid(row=1, column=1, columnspan=4)\n",
        "e3=Entry(window).grid(row=2, column=1, columnspan=4)\n",
        "e4=Entry(window).grid(row=3, column=1, columnspan=4)\n",
        "e5=Entry(window).grid(row=4, column=1,columnspan=4)\n",
        "\n",
        "button1=Button(window, text=\"Clear\").grid(row=5, column=2)\n",
        "button2=Button(window, text=\"Submit\").grid(row=5, column=3)\n"
      ],
      "metadata": {
        "id": "pGzU1EDeIbtV"
      },
      "execution_count": null,
      "outputs": []
    },
    {
      "cell_type": "code",
      "source": [
        "#05.\n",
        "from tkinter import *\n",
        "\n",
        "window=Tk()\n",
        "\n",
        "def click(key):\n",
        "  if key==\"감소\":\n",
        "    label[\"text\"]-=1\n",
        "  else:\n",
        "    label[\"text\"]+=1\n",
        "\n",
        "num=0\n",
        "label=Label(window, text=f\"      {num}      \").grid(row=0, column=1)\n",
        "minus=Button(window, text=\"감소\", command=click(minus[\"text\"])).grid(row=0, column=0)\n",
        "plus=Button(window, text=\"증가\", command=click(plus[\"text\"])).grid(row=0, column=2)"
      ],
      "metadata": {
        "id": "LSvB67oQMCFJ"
      },
      "execution_count": null,
      "outputs": []
    },
    {
      "cell_type": "code",
      "source": [
        "#05.\n",
        "\n",
        "from tkinter import *\n",
        "\n",
        "window=Tk()\n",
        "\n",
        "def click(key):\n",
        "  global num\n",
        "  if key==\"감소\":\n",
        "    num-=1\n",
        "  else:\n",
        "    num+=1\n",
        "  label['text']=f\"      {num}     \"\n",
        "\n",
        "num=0\n",
        "label=Label(window, text=f\"      {num}     \")\n",
        "label.grid(row=0, column=1)\n",
        "\n",
        "minus=Button(window, text=\"감소\", command=lambda: click(\"감소\"))\n",
        "minus.grid(row=0, column=0)\n",
        "\n",
        "plus=Button(window, text=\"증가\", command=lambda: click(\"증가\"))\n",
        "plus.grid(row=0, column=2)\n",
        "\n",
        "window.mainloop()"
      ],
      "metadata": {
        "id": "rRu7y_OiTGin"
      },
      "execution_count": null,
      "outputs": []
    },
    {
      "cell_type": "code",
      "source": [
        "#06.\n",
        "\n",
        "from tkinter import *\n",
        "from random import randint\n",
        "\n",
        "window=Tk()\n",
        "\n",
        "def dice():\n",
        "  global num\n",
        "  num=randint(1,6)\n",
        "  label['text']=num\n",
        "\n",
        "num=0\n",
        "label=Label(window, text=num, width=6)\n",
        "label.pack(side=LEFT)\n",
        "button=Button(window, text=\"굴리기\", command=dice)\n",
        "button.pack(side=LEFT)\n",
        "\n",
        "window.mainloop()"
      ],
      "metadata": {
        "id": "tOMZ0Ig5U-VD"
      },
      "execution_count": null,
      "outputs": []
    },
    {
      "cell_type": "code",
      "source": [
        "#07.\n",
        "from tkinter import *\n",
        "\n",
        "window=Tk()\n",
        "inch_val=0\n",
        "\n",
        "def change():\n",
        "  global inch_val\n",
        "  inch_val=float(entry.get())\n",
        "  changed=inch_val*2.54\n",
        "  result2['text']=changed\n",
        "\n",
        "label=Label(window, text=\"인치를 입력하시오: \")\n",
        "label.grid(row=0, column=0)\n",
        "entry=Entry(window, width=10)\n",
        "entry.grid(row=0, column=1)\n",
        "result=Label(window, text=\"변환결과:\")\n",
        "result.grid(row=1, column=0)\n",
        "result2=Label(window, text=f\"{inch_val} 센티미터\")\n",
        "result2.grid(row=1, column=1)\n",
        "button=Button(window, text=\"변환!\", command=change)\n",
        "button.grid(row=2, column=1)"
      ],
      "metadata": {
        "id": "OzKosNvyXMbe"
      },
      "execution_count": null,
      "outputs": []
    },
    {
      "cell_type": "code",
      "source": [
        "#08.\n",
        "from tkinter import *\n",
        "\n",
        "window=Tk()\n",
        "\n",
        "def click(key):\n",
        "  if key==\"로그인\":\n",
        "    login['text']=\"로그아웃\"\n",
        "  elif key==\"취소\":\n",
        "    login['text']=\"로그인\"\n",
        "\n",
        "id=Label(window, text=\"아이디\").grid(row=0, column=0)\n",
        "password=Label(window, text=\"비밀번호\").grid(row=1, column=0)\n",
        "\n",
        "id_e=Entry(window, width=20).grid(row=0, column=1)\n",
        "ps_e=Entry(window, width=20).grid(row=1, column=1)\n",
        "\n",
        "login=Button(window, text=\"로그인\", command=lambda: click(\"로그인\"))\n",
        "login.grid(row=3, column=0)\n",
        "cancel=Button(window, text=\"취소\", command=lambda: click(\"취소\"))\n",
        "cancel.grid(row=3, column=1)"
      ],
      "metadata": {
        "id": "JWQHfYd9Z876"
      },
      "execution_count": null,
      "outputs": []
    },
    {
      "cell_type": "code",
      "source": [
        "#09. 처음코드\n",
        "from tkinter import *\n",
        "\n",
        "window=Tk()\n",
        "\n",
        "name=Label(window, text=\"이름\", width=20)\n",
        "name.grid(row=0, column=0)\n",
        "job=Label(window, text=\"직업\", width=20)\n",
        "job.grid(row=1, column=0)\n",
        "country=Label(window, text=\"국적\", width=20)\n",
        "country.grid(row=2, column=0)\n",
        "\n",
        "e1=Entry(window, width=30)\n",
        "e1.grid(row=0, column=2)\n",
        "e2=Entry(window, width=30)\n",
        "e2.grid(row=1, column=2)\n",
        "e3=Entry(window, width=30)\n",
        "e3.grid(row=2, column=2)\n",
        "\n",
        "b1=Button(window, text=\"Show\")\n",
        "b1.grid(row=3,column=0)\n",
        "b2=Button(window, text=\"Quit\")\n",
        "b2.grid(row=3, column=1)"
      ],
      "metadata": {
        "id": "wMgrgCmkdS7P"
      },
      "execution_count": null,
      "outputs": []
    },
    {
      "cell_type": "code",
      "source": [
        "#09. 최종 코드\n",
        "\n",
        "from tkinter import *\n",
        "fields='이름', '직업', '국적' #튜플\n",
        "\n",
        "def fetch(entries):\n",
        "  field=entry[0]\n",
        "  text=entry[1].get()\n",
        "  print('%s: %s' %(field, text))\n",
        "\n",
        "def makeform(root, fields):\n",
        "  entries=[]\n",
        "  for field in fields:\n",
        "    row=Frame(root)\n",
        "    lab=Label(row, width=15, text=field)\n",
        "    ent=Entry(now)\n",
        "    row.pack(side=TOP, fill=X)\n",
        "    lab.pack(side=LEFT)\n",
        "    ent.pack(side=RIGHT, expand=YES, fill=X)\n",
        "    entries.append((field, ent))\n",
        "  return entries\n",
        "\n",
        "root=Tk()\n",
        "ents=makeform(root, fields)\n",
        "root.bind('<Return', (lambda event, e=ents: fetch(e)))\n",
        "b1=Button(root, text='Show', command=(lambda e=ents: fetch(e)))\n",
        "b1.pack(side=LEFT, padx=5, pady=5)\n",
        "b2=Button(root, text='Quit', command=root.quit)\n",
        "b2.pack(side=LEFT, padx=5, pady=5)\n",
        "root.mainloop()\n",
        "\n",
        "\n",
        "\n",
        "root=Tk()\n",
        "ents=makeform"
      ],
      "metadata": {
        "id": "x_ZwGBP7hb7b"
      },
      "execution_count": null,
      "outputs": []
    },
    {
      "cell_type": "code",
      "source": [
        "#10.\n",
        "from tkinter import *\n",
        "\n",
        "window=Tk()\n",
        "\n",
        "def callback(event):\n",
        "    rect_id = 1  # the id of the rectangle, usually it starts from 1\n",
        "    coords = w.coords(rect_id)\n",
        "    # increase the size of rectangle by doubling the distance from the origin\n",
        "    new_coords = [x*2 for x in coords]\n",
        "    w.coords(rect_id, *new_coords)\n",
        "\n",
        "def callback1(event):\n",
        "    rect_id = 1  # the id of the rectangle, usually it starts from 1\n",
        "    coords = w.coords(rect_id)\n",
        "    # increase the size of rectangle by doubling the distance from the origin\n",
        "    new_coords = [x//2 for x in coords]\n",
        "    w.coords(rect_id, *new_coords)\n",
        "\n",
        "\n",
        "w=Canvas(window, width=600, height=600)\n",
        "w.pack()\n",
        "\n",
        "w.create_rectangle(50, 100, 150, 200)\n",
        "window.bind(\"<Button-1>\", callback)\n",
        "window.bind(\"<Button-3>\", callback1)\n",
        "window.mainloop()"
      ],
      "metadata": {
        "id": "sohFpJ3UifY-"
      },
      "execution_count": null,
      "outputs": []
    },
    {
      "cell_type": "code",
      "source": [
        "#11.\n",
        "\n",
        "from tkinter import *\n",
        "\n",
        "class Marquee(Canvas):\n",
        "    def __init__(self, parent, text, margin=2, speed=2, **kwargs):\n",
        "        Canvas.__init__(self, parent, **kwargs)\n",
        "        self.margin = margin\n",
        "        self.speed = speed\n",
        "        self.length = int(self['width'])\n",
        "        self.text = self.create_text(self.length, self.length / 2, \n",
        "                                     text=text, tags=\"Marquee\",\n",
        "                                     anchor='w')\n",
        "        self.after(self.speed, self.tick)\n",
        "\n",
        "    def tick(self):\n",
        "        text_width = self.bbox(\"Marquee\")[2]\n",
        "        if text_width < 0:\n",
        "            self.move(\"Marquee\", self.length, 0)\n",
        "        else:\n",
        "            self.move(\"Marquee\", -1, 0)\n",
        "        self.after(self.speed, self.tick)\n",
        "\n",
        "window=Tk()\n",
        "label=Marquee(window, text=\"파이썬 커피샵으로 오세요!\", speed=10)\n",
        "label.pack(side=LEFT)\n",
        "\n",
        "window.mainloop()"
      ],
      "metadata": {
        "id": "fAj4jMQgoRhY"
      },
      "execution_count": null,
      "outputs": []
    },
    {
      "cell_type": "code",
      "source": [
        "#12.\n",
        "\n",
        "from tkinter import *\n",
        "\n",
        "class MovingRectangle:\n",
        "    def __init__(self, root):\n",
        "        self.canvas = Canvas(root, width=500, height=500)\n",
        "        self.rectangle = self.canvas.create_rectangle(225, 225, 275, 275, fill='orange')\n",
        "        self.canvas.pack()\n",
        "\n",
        "        frame = Frame(root)\n",
        "        frame.pack(side=BOTTOM)\n",
        "\n",
        "        Button(frame, text='←', command=self.move_left).pack(side=LEFT)\n",
        "        Button(frame, text='↑', command=self.move_up).pack(side=LEFT)\n",
        "        Button(frame, text='↓', command=self.move_down).pack(side=LEFT)\n",
        "        Button(frame, text='→', command=self.move_right).pack(side=LEFT)\n",
        "\n",
        "    def move_left(self):\n",
        "        self.canvas.move(self.rectangle, -20, 0)\n",
        "\n",
        "    def move_up(self):\n",
        "        self.canvas.move(self.rectangle, 0, -20)\n",
        "\n",
        "    def move_down(self):\n",
        "        self.canvas.move(self.rectangle, 0, 20)\n",
        "\n",
        "    def move_right(self):\n",
        "        self.canvas.move(self.rectangle, 20, 0)\n",
        "\n",
        "\n",
        "root = Tk()\n",
        "mr = MovingRectangle(root)\n",
        "root.mainloop()\n"
      ],
      "metadata": {
        "id": "0dmZt9P2qHNh"
      },
      "execution_count": null,
      "outputs": []
    },
    {
      "cell_type": "code",
      "source": [
        "#13.\n",
        "from tkinter import *\n",
        "\n",
        "class MovingRectangle:\n",
        "    def __init__(self, root):\n",
        "        self.canvas = Canvas(root, width=500, height=500)\n",
        "        self.rectangle = self.canvas.create_rectangle(225, 225, 275, 275, fill='green')\n",
        "        self.canvas.pack()\n",
        "\n",
        "        root.bind('<Left>', self.move_left)\n",
        "        root.bind('<Up>', self.move_up)\n",
        "        root.bind('<Down>', self.move_down)\n",
        "        root.bind('<Right>', self.move_right)\n",
        "\n",
        "    def move_left(self, event):\n",
        "        self.canvas.move(self.rectangle, -20, 0)\n",
        "\n",
        "    def move_up(self, event):\n",
        "        self.canvas.move(self.rectangle, 0, -20)\n",
        "\n",
        "    def move_down(self, event):\n",
        "        self.canvas.move(self.rectangle, 0, 20)\n",
        "\n",
        "    def move_right(self, event):\n",
        "        self.canvas.move(self.rectangle, 20, 0)\n",
        "\n",
        "\n",
        "root = Tk()\n",
        "mr = MovingRectangle(root)\n",
        "root.mainloop()\n"
      ],
      "metadata": {
        "id": "rA4Ftc5RrLd3"
      },
      "execution_count": null,
      "outputs": []
    },
    {
      "cell_type": "code",
      "source": [
        "#14.\n",
        "from tkinter import *\n",
        "import random\n",
        "\n",
        "def displayRect():\n",
        "    x1 = random.randint(0, 400)\n",
        "    y1 = random.randint(0, 400)\n",
        "    x2 = x1 + random.randint(50, 100)\n",
        "    y2 = y1 + random.randint(50, 100)\n",
        "    color = random.choice([\"red\", \"orange\", \"yellow\", \"green\", \"blue\", \"violet\"])\n",
        "    canvas.create_rectangle(x1, y1, x2, y2, fill=color)\n",
        "    window.after(500, displayRect)  # 500 milliseconds 후에 다시 displayRect 함수를 호출\n",
        "\n",
        "window = Tk()\n",
        "canvas = Canvas(window, width=500, height=500)\n",
        "canvas.pack()\n",
        "displayRect()\n",
        "window.mainloop()\n"
      ],
      "metadata": {
        "id": "k6KIRrLHrvEU"
      },
      "execution_count": null,
      "outputs": []
    }
  ]
}