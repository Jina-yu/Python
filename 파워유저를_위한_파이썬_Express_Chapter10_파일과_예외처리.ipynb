{
  "nbformat": 4,
  "nbformat_minor": 0,
  "metadata": {
    "colab": {
      "provenance": [],
      "authorship_tag": "ABX9TyPUauLVYe47aTAETPfP61NQ",
      "include_colab_link": true
    },
    "kernelspec": {
      "name": "python3",
      "display_name": "Python 3"
    },
    "language_info": {
      "name": "python"
    }
  },
  "cells": [
    {
      "cell_type": "markdown",
      "metadata": {
        "id": "view-in-github",
        "colab_type": "text"
      },
      "source": [
        "<a href=\"https://colab.research.google.com/github/Jina-yu/Python/blob/main/%ED%8C%8C%EC%9B%8C%EC%9C%A0%EC%A0%80%EB%A5%BC_%EC%9C%84%ED%95%9C_%ED%8C%8C%EC%9D%B4%EC%8D%AC_Express_Chapter10_%ED%8C%8C%EC%9D%BC%EA%B3%BC_%EC%98%88%EC%99%B8%EC%B2%98%EB%A6%AC.ipynb\" target=\"_parent\"><img src=\"https://colab.research.google.com/assets/colab-badge.svg\" alt=\"Open In Colab\"/></a>"
      ]
    },
    {
      "cell_type": "code",
      "execution_count": null,
      "metadata": {
        "id": "3KB09eO3Z_cP"
      },
      "outputs": [],
      "source": [
        "#LAB: 매출 파일 처리\n",
        "#입력 파일에 상점의 일별 매출이 저장되어 있음. 이것을 읽어서 일별 평균 매출과 총 매출을 계산한 후에 다른 파일에 출력하는 프로그램 작성\n",
        "\n",
        "#입력 파일 이름과 출력 파일 이름을 받음\n",
        "infilename=input(\"입력 파일 이름: \")\n",
        "outfilename=input(\"출력 파일 이름: \")\n",
        "\n",
        "#입력과 출력을 위한 파일을 엶\n",
        "infile==open(infilename, \"r\")\n",
        "outfile=open(outfilename, \"w\")\n",
        "\n",
        "#합계와 횟수를 위한 변수 정의\n",
        "sum=0\n",
        "count=0\n",
        "\n",
        "#입력 파일에서 한 줄을 읽어서 합계 계산\n",
        "sum=0\n",
        "count=0\n",
        "\n",
        "#입력 파일에서 한 줄을 읽어서 합계 계산\n",
        "line=infile.readline()\n",
        "while line!=\"\":\n",
        "  s=int(line)\n",
        "  sum+=s\n",
        "  count+=1\n",
        "  line=infile.readline()\n",
        "\n",
        "#총매출과 일평균 매출을 출력 파일에 기록\n",
        "outfile.write(\"총매출=\"+str(num)+\"\\n\")\n",
        "outfile.write(\"평균 일매출=\"+str(sum/count))\n",
        "\n",
        "infile.close()\n",
        "outfile.close()"
      ]
    },
    {
      "cell_type": "code",
      "source": [
        "counter=[0]*26\n",
        "infile=open(\"mobydick.txt\", \"r\")\n",
        "ch=infile.read(1)\n",
        "while ch!=\"\":\n",
        "  ch=ch.upper() #소문자->대문자\n",
        "  if ch>=\"A\" and ch<=\"Z\":\n",
        "    i=ord(ch)-ord(\"A\")\n",
        "    counter[i]+=1\n",
        "  ch=infile.read(1)\n",
        "print(counter)"
      ],
      "metadata": {
        "id": "o0PDMK2TfuWj"
      },
      "execution_count": null,
      "outputs": []
    },
    {
      "cell_type": "code",
      "source": [
        "#LAB: 행맨\n",
        "\n",
        "import random\n",
        "\n",
        "guess=''\n",
        "turns=10\n",
        "\n",
        "infile=open(\"words.txt\", \"r\")\n",
        "lines=infile.readlines()\n",
        "word=random.choice(lines)\n",
        "\n",
        "while turns>0:\n",
        "  failed=0\n",
        "  for char in word:\n",
        "    if char in guesses:\n",
        "      print(char, end=\"\")\n",
        "    else:\n",
        "      print(\"_\", end=\"\")\n",
        "      failed+=1\n",
        "  if failed==0:\n",
        "    print(\"사용자 승리\")\n",
        "    break\n",
        "  print(\"\")\n",
        "  guess=input(\"단어를 추측하시오: \")\n",
        "  guesses+=guess\n",
        "  if guess not in word:\n",
        "    turns-=1\n",
        "    print(\"틀렸음!\")\n",
        "    print(str(turns)+\"기회가 남았음!\")\n",
        "    if turns==0:\n",
        "      print(\"사용자 패배 정답은\"+word)\n",
        "\n",
        "infile.close()"
      ],
      "metadata": {
        "colab": {
          "base_uri": "https://localhost:8080/",
          "height": 248
        },
        "id": "EkrwFK2HgrAx",
        "outputId": "6e557cf0-a728-49d9-99c5-3f656503e349"
      },
      "execution_count": null,
      "outputs": [
        {
          "output_type": "error",
          "ename": "FileNotFoundError",
          "evalue": "ignored",
          "traceback": [
            "\u001b[0;31m---------------------------------------------------------------------------\u001b[0m",
            "\u001b[0;31mFileNotFoundError\u001b[0m                         Traceback (most recent call last)",
            "\u001b[0;32m<ipython-input-1-cf2673c6456e>\u001b[0m in \u001b[0;36m<cell line: 8>\u001b[0;34m()\u001b[0m\n\u001b[1;32m      6\u001b[0m \u001b[0mturns\u001b[0m\u001b[0;34m=\u001b[0m\u001b[0;36m10\u001b[0m\u001b[0;34m\u001b[0m\u001b[0;34m\u001b[0m\u001b[0m\n\u001b[1;32m      7\u001b[0m \u001b[0;34m\u001b[0m\u001b[0m\n\u001b[0;32m----> 8\u001b[0;31m \u001b[0minfile\u001b[0m\u001b[0;34m=\u001b[0m\u001b[0mopen\u001b[0m\u001b[0;34m(\u001b[0m\u001b[0;34m\"words.txt\"\u001b[0m\u001b[0;34m,\u001b[0m \u001b[0;34m\"r\"\u001b[0m\u001b[0;34m)\u001b[0m\u001b[0;34m\u001b[0m\u001b[0;34m\u001b[0m\u001b[0m\n\u001b[0m\u001b[1;32m      9\u001b[0m \u001b[0mlines\u001b[0m\u001b[0;34m=\u001b[0m\u001b[0minfile\u001b[0m\u001b[0;34m.\u001b[0m\u001b[0mreadlines\u001b[0m\u001b[0;34m(\u001b[0m\u001b[0;34m)\u001b[0m\u001b[0;34m\u001b[0m\u001b[0;34m\u001b[0m\u001b[0m\n\u001b[1;32m     10\u001b[0m \u001b[0mword\u001b[0m\u001b[0;34m=\u001b[0m\u001b[0mrandom\u001b[0m\u001b[0;34m.\u001b[0m\u001b[0mchoice\u001b[0m\u001b[0;34m(\u001b[0m\u001b[0mlines\u001b[0m\u001b[0;34m)\u001b[0m\u001b[0;34m\u001b[0m\u001b[0;34m\u001b[0m\u001b[0m\n",
            "\u001b[0;31mFileNotFoundError\u001b[0m: [Errno 2] No such file or directory: 'words.txt'"
          ]
        }
      ]
    },
    {
      "cell_type": "code",
      "source": [
        "#LAB: 각 문자 횟수 세기\n",
        "#딕셔너리 이용하여 문자 출현 횟수 세기\n",
        "\n",
        "filename=input(\"파일명을 입력하세요: \").strip()\n",
        "infile=open(filename, \"r\") #파일 열기\n",
        "\n",
        "feqs={}\n",
        "\n",
        "#파일의 각 줄에 대하여 문자 추출. 각 문자를 사전에 추가\n",
        "for line in infile:\n",
        "  for char in line.strip(): #양쪽 끝의 공백 문자를 제거\n",
        "    if char in freqs: #문자열 안의 각 문자에 대하여\n",
        "      freqs[char]+=1 #딕셔너리 횟수 증가\n",
        "    else: #처음 나온 문자이면\n",
        "      freqs[char]=1 #딕셔너리의 횟수를 1로 초기화\n",
        "\n",
        "print(freqs)\n",
        "infile.close()"
      ],
      "metadata": {
        "id": "DaJsdz-Chiva"
      },
      "execution_count": null,
      "outputs": []
    },
    {
      "cell_type": "code",
      "source": [
        "#LAB: CSV 파일 처리\n",
        "import csv #csv모듈 불러오기\n",
        "\n",
        "f=open('d:\\\\weather.csv') #csv 파일을 열어서 f에 저장\n",
        "data=csv.reader(f) #reader()  함수를 이용해서 읽음\n",
        "header=next(data) #헤더 제거\n",
        "for row in data: #반복 루프 사용해서 데이터 얻기\n",
        "  print(row)\n",
        "f.close()"
      ],
      "metadata": {
        "id": "cys8xN9NcM42"
      },
      "execution_count": null,
      "outputs": []
    },
    {
      "cell_type": "code",
      "source": [
        "import CCSV\n",
        "\n",
        "f=open('d:\\\\weather.csv')\n",
        "data=csv.reader(f)\n",
        "header=next(data)\n",
        "temp=1000\n",
        "for row in data:\n",
        "  if temp>float(row[3]):\n",
        "    temp=float(row[3])\n",
        "print(\"가장 추웠던 날의 기온은\", temp, \"입니다.\")\n",
        "f.close()"
      ],
      "metadata": {
        "id": "6Z7ubxITdjsp"
      },
      "execution_count": null,
      "outputs": []
    },
    {
      "cell_type": "code",
      "source": [
        "#LAB: 파일 암호화\n",
        "\n",
        "#이 프로그램은 시저 암호를 구현한다\n",
        "\n",
        "key='abcdefghijklmnopqrstuvwxyz'\n",
        "\n",
        "#평문을 받아서 암호화하고 암호문 반환\n",
        "def encrypt(n, plaintext):\n",
        "  result=''\n",
        "\n",
        "  for l in plaintext.lower():\n",
        "    try:\n",
        "      i=(key.index(l)+n)%26\n",
        "      result+=key[i]\n",
        "    except ValueError:\n",
        "      result+=l\n",
        "\n",
        "  return result.lower()\n",
        "\n",
        "#암호문을 받아서 복호화하고 평문을 반환\n",
        "def decrypt(n, ciphertext):\n",
        "  result=''\n",
        "\n",
        "  for l in ciphertext:\n",
        "    try:\n",
        "      i=(key.index(l)-n)%26\n",
        "      result+=key[i]\n",
        "    except ValueError:\n",
        "      result+=l\n",
        "\n",
        "  return result\n",
        "\n",
        "n=3\n",
        "text='The language of truth is simple.'\n",
        "encrypted=encrypt(n, text)\n",
        "decrypted=decrypt(n, encrypted)\n",
        "print('평문: ', text)\n",
        "print('암호문: ', encrypted)\n",
        "print('복호문: ', decrypted)"
      ],
      "metadata": {
        "id": "guFcYsgOd2hW",
        "colab": {
          "base_uri": "https://localhost:8080/"
        },
        "outputId": "38dcc414-d25e-463c-d272-e7848fbc7832"
      },
      "execution_count": null,
      "outputs": [
        {
          "output_type": "stream",
          "name": "stdout",
          "text": [
            "평문:  The language of truth is simple.\n",
            "암호문:  wkh odqjxdjh ri wuxwk lv vlpsoh.\n",
            "복호문:  the language of truth is simple.\n"
          ]
        }
      ]
    },
    {
      "cell_type": "code",
      "source": [
        "#LAB: 디렉토리 안의 파일 처리\n",
        "#파일 중에서 \"Python\"을 포함하고 있는 줄이 있으면 파일의 이름과 해당 줄을 출력\n",
        "\n",
        "import os\n",
        "arr=os.listdir()\n",
        "\n",
        "for f in arr:\n",
        "  infile=open(f, \"r\", encoding=\"utf-8\")\n",
        "  for line in infile:\n",
        "    e=line.rstrip() #오른쪽 줄바꾼 문자를 없앰\n",
        "    if \"Python\" in e:\n",
        "      print(f, \":\", e)\n",
        "  infile.close()"
      ],
      "metadata": {
        "id": "GAbnSCaFRixg"
      },
      "execution_count": null,
      "outputs": []
    },
    {
      "cell_type": "code",
      "source": [
        "infile=open(\"text.txt\",\"r+\")\n",
        "str=infile.read(10)\n",
        "print(\"읽은 문자열:\", str)\n",
        "position=infile.tell();\n",
        "print(\"현재 위치: \", position)\n",
        "\n",
        "position=infile.seek(0);\n",
        "str=infile.read(10)\n",
        "print(\"읽은 문자열: \", str)\n",
        "infile.close()"
      ],
      "metadata": {
        "id": "QMf-efOPu62a"
      },
      "execution_count": null,
      "outputs": []
    },
    {
      "cell_type": "code",
      "source": [
        "#LAB: 이미지 파일 복사하기\n",
        "infile=open(\"123.png\", \"rb\")\n",
        "outfile=open(\"kkk.png\", \"wb\")\n",
        "\n",
        "#입력 파일에서 1024바이트씩 읽어서 출력 파일에 쓰기\n",
        "while True:\n",
        "  copy_buffer=infile.read(1024)\n",
        "  if not copy_buffer: #파일의 끝이면\n",
        "    break\n",
        "  outfile.write(copy_buffer)\n",
        "\n",
        "infile.close()\n",
        "outfile.close()\n",
        "print(filename1+\"를\"+filename2+\"로 복사하였습니다.\")"
      ],
      "metadata": {
        "id": "daAmliahvMmN"
      },
      "execution_count": null,
      "outputs": []
    },
    {
      "cell_type": "code",
      "source": [
        "#예제1\n",
        "import pickle\n",
        "\n",
        "gateOption={\"Sound\": 8, \"VideoQuality\": \"HIGH\", \"Money\": 100000, \"WeaponList\": [\"gun\", \"missile\", \"knife\"]}"
      ],
      "metadata": {
        "id": "JVHH_GLY2MM6"
      },
      "execution_count": null,
      "outputs": []
    },
    {
      "cell_type": "code",
      "source": [
        "#예제2\n",
        "#이진 파일에 저장된 딕셔너리 읽기\n",
        "import pickle\n",
        "\n",
        "file=open(\"d:\\\\save.p\", \"rb\") #이진파일 오픈\n",
        "obj=pickle.load(open(\"save.p\", \"rb\")) #피클 파일에 딕셔너리를 로딩\n",
        "print(obj)"
      ],
      "metadata": {
        "id": "wfShM-TB28UP"
      },
      "execution_count": null,
      "outputs": []
    },
    {
      "cell_type": "code",
      "source": [
        "#LAB: 정규식 이용하기\n",
        "text=\"\"\"101 COM PythonProgramming\n",
        "102 MAT LinearAlgebra\n",
        "103 ENG ComputerEnglish\"\"\"\n",
        "\n",
        "import re\n",
        "s=re.findall(\"\\d+\",text)\n",
        "print(s)"
      ],
      "metadata": {
        "colab": {
          "base_uri": "https://localhost:8080/"
        },
        "id": "mzqODtMX9ARR",
        "outputId": "80ae963b-b574-4666-e187-fd6f13196d0c"
      },
      "execution_count": null,
      "outputs": [
        {
          "output_type": "stream",
          "name": "stdout",
          "text": [
            "['101', '102', '103']\n"
          ]
        }
      ]
    },
    {
      "cell_type": "code",
      "source": [
        "#LAB: 패스워드 검사 프로그램\n",
        "\n",
        "import re\n",
        "password=input(\"패스워드를 입력하세요: \")\n",
        "flag=0\n",
        "while True:\n",
        "  if (len(password)<8):\n",
        "    flag=-1\n",
        "    break\n",
        "  elif not re.search(\"[a-z]\", password):\n",
        "    flag=-1\n",
        "    break\n",
        "  elif not re.search(\"[A-Z]\", password):\n",
        "    flag=-1\n",
        "    break\n",
        "  elif not re.search(\"[0-9]\", password):\n",
        "    flag=-1\n",
        "    break\n",
        "  elif not re.search(\"[_@$]\", password):\n",
        "    flag=-1\n",
        "    break\n",
        "  else:\n",
        "    flag=0\n",
        "    print(\"유효한 패스워드\")\n",
        "    break\n",
        "\n",
        "\n",
        "\n",
        "if flag==-1:\n",
        "  print(\"유효한 패스워드가 아닙니다.\")"
      ],
      "metadata": {
        "colab": {
          "base_uri": "https://localhost:8080/"
        },
        "id": "5VWaBpfU9eAF",
        "outputId": "8f83e4d4-30e2-485a-9018-2e4d2d5956a3"
      },
      "execution_count": null,
      "outputs": [
        {
          "output_type": "stream",
          "name": "stdout",
          "text": [
            "패스워드를 입력하세요: a123\n",
            "유효한 패스워드가 아닙니다.\n"
          ]
        }
      ]
    },
    {
      "cell_type": "markdown",
      "source": [
        "# Programming"
      ],
      "metadata": {
        "id": "Wfktq3RjW4WH"
      }
    },
    {
      "cell_type": "code",
      "source": [
        "#01.\n",
        "\n",
        "infile=open(\"input.txt\", \"r\")\n",
        "line=infile.readline().rstrip()\n",
        "\n",
        "while line!=\"\":\n",
        "  print(line)\n",
        "  line=infile.readline().rstrip()"
      ],
      "metadata": {
        "id": "GbQkuCpa_Ffw",
        "colab": {
          "base_uri": "https://localhost:8080/"
        },
        "outputId": "9269fb9b-76f6-4caf-a424-fdbb8d2b1bb0"
      },
      "execution_count": null,
      "outputs": [
        {
          "output_type": "stream",
          "name": "stdout",
          "text": [
            "All's well that ends well.\n",
            "Bad neews travels fast.\n",
            "Well bdgun is half done.\n"
          ]
        }
      ]
    },
    {
      "cell_type": "code",
      "source": [
        "#02.\n",
        "\n",
        "infile=open(\"input.txt\", \"r\")\n",
        "max_count=0\n",
        "max_string=\"\"\n",
        "\n",
        "for line in infile:\n",
        "  if len(line)>max_count:\n",
        "    max_count=len(line)\n",
        "    max_string=line\n",
        "\n",
        "print(max_string)"
      ],
      "metadata": {
        "colab": {
          "base_uri": "https://localhost:8080/"
        },
        "id": "UpJW6iQyXIuJ",
        "outputId": "2f5702f6-151a-41b9-afcd-4e66fd7cf663"
      },
      "execution_count": null,
      "outputs": [
        {
          "output_type": "stream",
          "name": "stdout",
          "text": [
            "All's well that ends well.\n",
            "\n"
          ]
        }
      ]
    },
    {
      "cell_type": "code",
      "source": [
        "ch=infile.read(1)\n",
        "while ch!=\"\":\n",
        "  print(ch)\n",
        "  ch=infile.read(1)\n",
        "print(ch)"
      ],
      "metadata": {
        "colab": {
          "base_uri": "https://localhost:8080/"
        },
        "id": "ytHbK6-nd9zj",
        "outputId": "dd17e292-1699-4ac6-bc4d-4a8e754fbaf4"
      },
      "execution_count": null,
      "outputs": [
        {
          "output_type": "stream",
          "name": "stdout",
          "text": [
            "\n"
          ]
        }
      ]
    },
    {
      "cell_type": "code",
      "source": [
        "#파일 열기\n",
        "with open('input.txt', 'r') as f:\n",
        "  words=f.read().split()\n",
        "\n",
        "#가장 긴 단어를 찾기\n",
        "longest_word=max(words, key=len)\n",
        "\n",
        "print('가장 긴 단어:', longest_word)"
      ],
      "metadata": {
        "id": "f7zBV7EaflOl"
      },
      "execution_count": null,
      "outputs": []
    },
    {
      "cell_type": "code",
      "source": [
        "#03.\n",
        "\n",
        "infilename=input(\"파일 이름을 입력하시오: \")\n",
        "infile=open(infilename, \"r\")\n",
        "n=int(input(\"행 번호를 입력하시오: \"))\n",
        "ch=infile.read(n)\n",
        "while ch!=\"\":\n",
        "  print(ch)\n",
        "  ch=infile.read(n)\n",
        "infile.close()\n",
        "# print(f\"{n}번 행은 {}입니다.\")"
      ],
      "metadata": {
        "colab": {
          "base_uri": "https://localhost:8080/"
        },
        "id": "TSVRlfaFTZHx",
        "outputId": "4244a316-a93a-45a3-9d39-26bcaacc5e69"
      },
      "execution_count": null,
      "outputs": [
        {
          "output_type": "stream",
          "name": "stdout",
          "text": [
            "파일 이름을 입력하시오: input.txt\n",
            "행 번호를 입력하시오: 2\n",
            "Al\n",
            "l'\n",
            "s \n",
            "we\n",
            "ll\n",
            " t\n",
            "ha\n",
            "t \n",
            "en\n",
            "ds\n",
            " w\n",
            "el\n",
            "l.\n",
            "\n",
            "B\n",
            "ad\n",
            " n\n",
            "ee\n",
            "ws\n",
            " t\n",
            "ra\n",
            "ve\n",
            "ls\n",
            " f\n",
            "as\n",
            "t.\n",
            "\n",
            "W\n",
            "el\n",
            "l \n",
            "bd\n",
            "gu\n",
            "n \n",
            "is\n",
            " h\n",
            "al\n",
            "f \n",
            "do\n",
            "ne\n",
            ".\n"
          ]
        }
      ]
    },
    {
      "cell_type": "code",
      "source": [
        "#03.\n",
        "\n",
        "filename=input(\"파일 이름을 입력하시오: \")\n",
        "n=int(input(\"행 번호를 입력하시오: \"))\n",
        "\n",
        "with open(filename, 'r') as file:\n",
        "  lines=file.readlines() #파일의 모든 라인을 리스트 형태로 읽어옴\n",
        "  if n-1<len(lines): #행 번호가 실제 파일의 라인 수보다 작은지 확인  (n은 1부터 시작하므로 n-1을 사용)\n",
        "    print(f\"{n}번 행은 {lines[n-1].strip()}입니다.\") #n번째 라인 출력\n",
        "  else:\n",
        "    print(\"해당하는 행이 존재하지 않습니다.\") #n이 실제 파일의 라인 수보다 큰 경우 에러 메시지 출력"
      ],
      "metadata": {
        "colab": {
          "base_uri": "https://localhost:8080/"
        },
        "id": "yjpQm58oVxyl",
        "outputId": "cc89de3a-b2f0-4e8d-845c-d3931c622910"
      },
      "execution_count": null,
      "outputs": [
        {
          "output_type": "stream",
          "name": "stdout",
          "text": [
            "파일 이름을 입력하시오: input.txt\n",
            "행 번호를 입력하시오: 0\n",
            "0번 행은 Well bdgun is half done.입니다.\n"
          ]
        }
      ]
    },
    {
      "cell_type": "code",
      "source": [
        "#04.\n",
        "import os\n",
        "\n",
        "#'A'부터 'Z'까지의 알파벳 리스트 생성\n",
        "alphabet=[chr(i) for i in range(ord('A'), ord('z')+1)]\n",
        "\n",
        "#각 알파벳에 대한 .txt 파일 생성\n",
        "for letter in alphabet:\n",
        "  with open(f'{letter}.txt', 'w') as f:\n",
        "    pass"
      ],
      "metadata": {
        "id": "6SwpyTFYaxmP"
      },
      "execution_count": null,
      "outputs": []
    },
    {
      "cell_type": "code",
      "source": [
        "#05.\n",
        "outfile=open(\"input.txt\", \"w\")\n",
        "outfile.write(\"line2-1\\n\",1)"
      ],
      "metadata": {
        "colab": {
          "base_uri": "https://localhost:8080/",
          "height": 211
        },
        "id": "s_rhGGrdd5Uk",
        "outputId": "d061d328-7c83-4441-9979-821caffb0d3d"
      },
      "execution_count": null,
      "outputs": [
        {
          "output_type": "error",
          "ename": "TypeError",
          "evalue": "ignored",
          "traceback": [
            "\u001b[0;31m---------------------------------------------------------------------------\u001b[0m",
            "\u001b[0;31mTypeError\u001b[0m                                 Traceback (most recent call last)",
            "\u001b[0;32m<ipython-input-7-836a64bedd1c>\u001b[0m in \u001b[0;36m<cell line: 3>\u001b[0;34m()\u001b[0m\n\u001b[1;32m      1\u001b[0m \u001b[0;31m#05.\u001b[0m\u001b[0;34m\u001b[0m\u001b[0;34m\u001b[0m\u001b[0m\n\u001b[1;32m      2\u001b[0m \u001b[0moutfile\u001b[0m\u001b[0;34m=\u001b[0m\u001b[0mopen\u001b[0m\u001b[0;34m(\u001b[0m\u001b[0;34m\"input.txt\"\u001b[0m\u001b[0;34m,\u001b[0m \u001b[0;34m\"w\"\u001b[0m\u001b[0;34m)\u001b[0m\u001b[0;34m\u001b[0m\u001b[0;34m\u001b[0m\u001b[0m\n\u001b[0;32m----> 3\u001b[0;31m \u001b[0moutfile\u001b[0m\u001b[0;34m.\u001b[0m\u001b[0mwrite\u001b[0m\u001b[0;34m(\u001b[0m\u001b[0;34m\"line2-1\\n\"\u001b[0m\u001b[0;34m,\u001b[0m\u001b[0;36m1\u001b[0m\u001b[0;34m)\u001b[0m\u001b[0;34m\u001b[0m\u001b[0;34m\u001b[0m\u001b[0m\n\u001b[0m",
            "\u001b[0;31mTypeError\u001b[0m: TextIOWrapper.write() takes exactly one argument (2 given)"
          ]
        }
      ]
    },
    {
      "cell_type": "code",
      "source": [
        "#05.\n",
        "#파일을 읽어 문자열로 저장\n",
        "with open('input.txt', 'r') as file:\n",
        "  file_contents=file.read()\n",
        "\n",
        "#텍스트를 원하는 위치에 삽입\n",
        "position=10 #원하는 위치\n",
        "text_to_insert=\"Hello, World!\" #삽입하려는 텍스트\n",
        "file_contents=file_contents[:position]+text_to_insert+file_contents[position:]\n",
        "\n",
        "#삽입된 텍스트를 포함한 전체 문자열을 다시파일에 쓰기함\n",
        "with open('input.txt', 'w') as file:\n",
        "  file.write(file_contents)"
      ],
      "metadata": {
        "id": "E--57qBgfZk0"
      },
      "execution_count": null,
      "outputs": []
    },
    {
      "cell_type": "code",
      "source": [
        "from random import randint\n",
        "letter=''\n",
        "with open('numbers.txt', 'w') as f:\n",
        "  for i in range(10):\n",
        "    num=random.randint(1,100)\n",
        "    letter.append(num)\n"
      ],
      "metadata": {
        "colab": {
          "base_uri": "https://localhost:8080/",
          "height": 248
        },
        "id": "kOPZKtM4jq5q",
        "outputId": "86d66c23-50eb-493d-da75-2ef21c311ff8"
      },
      "execution_count": null,
      "outputs": [
        {
          "output_type": "error",
          "ename": "NameError",
          "evalue": "ignored",
          "traceback": [
            "\u001b[0;31m---------------------------------------------------------------------------\u001b[0m",
            "\u001b[0;31mNameError\u001b[0m                                 Traceback (most recent call last)",
            "\u001b[0;32m<ipython-input-8-89b542a7e1e9>\u001b[0m in \u001b[0;36m<cell line: 3>\u001b[0;34m()\u001b[0m\n\u001b[1;32m      3\u001b[0m \u001b[0;32mwith\u001b[0m \u001b[0mopen\u001b[0m\u001b[0;34m(\u001b[0m\u001b[0;34m'numbers.txt'\u001b[0m\u001b[0;34m,\u001b[0m \u001b[0;34m'w'\u001b[0m\u001b[0;34m)\u001b[0m \u001b[0;32mas\u001b[0m \u001b[0mf\u001b[0m\u001b[0;34m:\u001b[0m\u001b[0;34m\u001b[0m\u001b[0;34m\u001b[0m\u001b[0m\n\u001b[1;32m      4\u001b[0m   \u001b[0;32mfor\u001b[0m \u001b[0mi\u001b[0m \u001b[0;32min\u001b[0m \u001b[0mrange\u001b[0m\u001b[0;34m(\u001b[0m\u001b[0;36m10\u001b[0m\u001b[0;34m)\u001b[0m\u001b[0;34m:\u001b[0m\u001b[0;34m\u001b[0m\u001b[0;34m\u001b[0m\u001b[0m\n\u001b[0;32m----> 5\u001b[0;31m     \u001b[0mnum\u001b[0m\u001b[0;34m=\u001b[0m\u001b[0mrandom\u001b[0m\u001b[0;34m.\u001b[0m\u001b[0mrandint\u001b[0m\u001b[0;34m(\u001b[0m\u001b[0;36m1\u001b[0m\u001b[0;34m,\u001b[0m\u001b[0;36m100\u001b[0m\u001b[0;34m)\u001b[0m\u001b[0;34m\u001b[0m\u001b[0;34m\u001b[0m\u001b[0m\n\u001b[0m\u001b[1;32m      6\u001b[0m     \u001b[0mletter\u001b[0m\u001b[0;34m.\u001b[0m\u001b[0mappend\u001b[0m\u001b[0;34m(\u001b[0m\u001b[0mnum\u001b[0m\u001b[0;34m)\u001b[0m\u001b[0;34m\u001b[0m\u001b[0;34m\u001b[0m\u001b[0m\n\u001b[1;32m      7\u001b[0m \u001b[0;34m\u001b[0m\u001b[0m\n",
            "\u001b[0;31mNameError\u001b[0m: name 'random' is not defined"
          ]
        }
      ]
    },
    {
      "cell_type": "code",
      "source": [
        "from random import randint\n",
        "\n",
        "with open('numbers.txt', 'w') as f:\n",
        "  for i in range(10):\n",
        "    num=randint(1, 100)\n",
        "    f.write(str(num)+'\\n')"
      ],
      "metadata": {
        "id": "Dc0mn-bpmzE8"
      },
      "execution_count": null,
      "outputs": []
    },
    {
      "cell_type": "code",
      "source": [
        "307.\n",
        "try:\n",
        "  filename=input(\"입력 파일 이름: \")\n",
        "  f=open(filename, \"r\")  # 파일을 읽기 모드로 열기\n",
        "  print(\"파일이 성공적으로 열렸습니다.\")\n",
        "  f.close()  # 파일 사용 후에는 반드시 닫아주어야 합니다.\n",
        "except IOError:\n",
        "  print(f\"파일 {filename}이 없습니다. 다시 입력하시오.\")\n",
        "\n"
      ],
      "metadata": {
        "colab": {
          "base_uri": "https://localhost:8080/"
        },
        "id": "wSvDWms7oYoA",
        "outputId": "313cbe99-8c9d-404d-a117-724b62bf81f0"
      },
      "execution_count": null,
      "outputs": [
        {
          "output_type": "stream",
          "name": "stdout",
          "text": [
            "입력 파일 이름: inpu\n",
            "파일 inpu이 없습니다. 다시 입력하시오.\n"
          ]
        }
      ]
    },
    {
      "cell_type": "code",
      "source": [
        "while True:\n",
        "    try:\n",
        "        filename = input(\"입력 파일 이름: \")\n",
        "        f = open(filename, \"r\")  # 파일을 읽기 모드로 열기\n",
        "        print(\"파일이 성공적으로 열렸습니다.\")\n",
        "        f.close()  # 파일 사용 후에는 반드시 닫아주어야 합니다.\n",
        "        break  # 파일을 성공적으로 열었으므로 while 루프를 빠져나감\n",
        "    except IOError:\n",
        "        print(f\"파일 {filename}이 없습니다. 다시 입력하시오.\")\n"
      ],
      "metadata": {
        "colab": {
          "base_uri": "https://localhost:8080/"
        },
        "id": "8V_UNoVCpL7j",
        "outputId": "a0851fb6-f00f-4c7b-9183-3f8442410564"
      },
      "execution_count": null,
      "outputs": [
        {
          "output_type": "stream",
          "name": "stdout",
          "text": [
            "입력 파일 이름: ㅇㅇ\n",
            "파일 ㅇㅇ이 없습니다. 다시 입력하시오.\n",
            "입력 파일 이름: input.txt\n",
            "파일이 성공적으로 열렸습니다.\n"
          ]
        }
      ]
    },
    {
      "cell_type": "code",
      "source": [
        "#08.\n",
        "score=[]\n",
        "sum=0\n",
        "with open('scores.txt', 'w') as f:\n",
        "  for line in f:\n",
        "    score.append(line)\n",
        "\n",
        "  for i in range(len(score)):\n",
        "    sum+=score[i]\n",
        "\n",
        "  average=sum/len(score)\n",
        "  f.write(\"평균값: \", average)"
      ],
      "metadata": {
        "colab": {
          "base_uri": "https://localhost:8080/",
          "height": 248
        },
        "id": "Y274T5DfqDlI",
        "outputId": "4daf497f-ac29-400d-bd7e-a278b8002c13"
      },
      "execution_count": null,
      "outputs": [
        {
          "output_type": "error",
          "ename": "UnsupportedOperation",
          "evalue": "ignored",
          "traceback": [
            "\u001b[0;31m---------------------------------------------------------------------------\u001b[0m",
            "\u001b[0;31mUnsupportedOperation\u001b[0m                      Traceback (most recent call last)",
            "\u001b[0;32m<ipython-input-15-19d6f893afda>\u001b[0m in \u001b[0;36m<cell line: 4>\u001b[0;34m()\u001b[0m\n\u001b[1;32m      3\u001b[0m \u001b[0msum\u001b[0m\u001b[0;34m=\u001b[0m\u001b[0;36m0\u001b[0m\u001b[0;34m\u001b[0m\u001b[0;34m\u001b[0m\u001b[0m\n\u001b[1;32m      4\u001b[0m \u001b[0;32mwith\u001b[0m \u001b[0mopen\u001b[0m\u001b[0;34m(\u001b[0m\u001b[0;34m'scores.txt'\u001b[0m\u001b[0;34m,\u001b[0m \u001b[0;34m'w'\u001b[0m\u001b[0;34m)\u001b[0m \u001b[0;32mas\u001b[0m \u001b[0mf\u001b[0m\u001b[0;34m:\u001b[0m\u001b[0;34m\u001b[0m\u001b[0;34m\u001b[0m\u001b[0m\n\u001b[0;32m----> 5\u001b[0;31m   \u001b[0;32mfor\u001b[0m \u001b[0mline\u001b[0m \u001b[0;32min\u001b[0m \u001b[0mf\u001b[0m\u001b[0;34m:\u001b[0m\u001b[0;34m\u001b[0m\u001b[0;34m\u001b[0m\u001b[0m\n\u001b[0m\u001b[1;32m      6\u001b[0m     \u001b[0mscore\u001b[0m\u001b[0;34m.\u001b[0m\u001b[0mappend\u001b[0m\u001b[0;34m(\u001b[0m\u001b[0mline\u001b[0m\u001b[0;34m)\u001b[0m\u001b[0;34m\u001b[0m\u001b[0;34m\u001b[0m\u001b[0m\n\u001b[1;32m      7\u001b[0m \u001b[0;34m\u001b[0m\u001b[0m\n",
            "\u001b[0;31mUnsupportedOperation\u001b[0m: not readable"
          ]
        }
      ]
    },
    {
      "cell_type": "code",
      "source": [
        "#08.\n",
        "score=[]\n",
        "sum=0\n",
        "with open('scores.txt', 'r+') as f:\n",
        "  for line in f:\n",
        "    score.append(float(line.strip())) #문자열에서 실수로 변환\n",
        "\n",
        "  for i in range(len(score)):\n",
        "    sum+=score[i]\n",
        "\n",
        "  average=sum/len(score)\n",
        "  f.write(\"평균값: \"+str(average)) #숫자를 문자열로 변환 후 파일에 쓰기"
      ],
      "metadata": {
        "id": "8rDwwOfas9se"
      },
      "execution_count": null,
      "outputs": []
    },
    {
      "cell_type": "code",
      "source": [
        "#09.\n",
        "file=input(\"파일 이름을 입력하시오: \")\n",
        "modified_s=input(\"삭제할 문자열을 입력하시오: \")\n",
        "print()\n",
        "print(\"변경된 파일이 저장되었습니다.\")"
      ],
      "metadata": {
        "id": "UKoBGP8mTkJL"
      },
      "execution_count": null,
      "outputs": []
    },
    {
      "cell_type": "code",
      "source": [
        "#09.\n",
        "#사용자로부터 입력받은 파일에서 특정 문자열을 삭제하려면 파일을 읽어서 해당 문자열이 있는지 확인하고,\n",
        "filename=input(\"파일 이름을 입력하시오: \")\n",
        "remove_string=input(\"삭제할 문자열을 입력하시오: \")\n",
        "\n",
        "with open(filename, 'r') as f:\n",
        "  contents=f.read()\n",
        "\n",
        "modified_contents=contents.replace(remove_string, '')\n",
        "\n",
        "with open(filename, 'w') as f:\n",
        "  f.write(modified_contents)\n",
        "\n",
        "print(\"변경된 파일이 저장되었습니다.\")"
      ],
      "metadata": {
        "id": "2JCAfxbnXvp8"
      },
      "execution_count": null,
      "outputs": []
    },
    {
      "cell_type": "code",
      "source": [
        "filename=input(\"파일 이름을 입력하시오: \")\n",
        "remove_string=input(\"삭제할 문자열을 입력하시오: \")\n",
        "\n",
        "with open(filename, 'r') as f:\n",
        "  contents=f.read()\n",
        "\n",
        "modified_contents=contents.replace(remove_string, '')\n",
        "\n",
        "with open(filename, 'w') as f:\n",
        "  f.write(modified_contents)\n",
        "\n",
        "print(\"변경된 파일이 저장되었습니다.\")"
      ],
      "metadata": {
        "id": "81GlOUwHawUD"
      },
      "execution_count": null,
      "outputs": []
    },
    {
      "cell_type": "code",
      "source": [
        "#10.\n",
        "filename=input(\"파일 이름을 입력하시오: \")\n",
        "space=0\n",
        "tap=0\n"
      ],
      "metadata": {
        "id": "X1KHNJeCjiLG"
      },
      "execution_count": null,
      "outputs": []
    },
    {
      "cell_type": "code",
      "source": [
        "#10.\n",
        "#파일 열기\n",
        "with open('filename.txt', 'r') as file:\n",
        "  text=file.read() #파일 내용 읽기\n",
        "\n",
        "#스페이스와 탭의 개수 세기\n",
        "space_count=text.count(' ')\n",
        "tab_count=text.count('\\t')\n",
        "\n",
        "print(f\"스페이스 수={space}, 탭의 수={tap}\")"
      ],
      "metadata": {
        "id": "HAys125BkI7s"
      },
      "execution_count": null,
      "outputs": []
    },
    {
      "cell_type": "code",
      "source": [
        "#11.\n",
        "with open('filename.txt', 'r')"
      ],
      "metadata": {
        "id": "pR_3W4IJkX4A"
      },
      "execution_count": null,
      "outputs": []
    },
    {
      "cell_type": "code",
      "source": [
        "#11.\n",
        "with open('input.txt', 'r') as f:\n",
        "  lines=f.readlines()\n",
        "\n",
        "#각 줄 앞에 번호 매기기\n",
        "lines=[f\"{i+1}: {line}\" for i, line in enumerate(lines)]\n",
        "\n",
        "#결과를 다시 파일에 쓰기\n",
        "with open('output.txt', 'w') as f:\n",
        "  f.writelines(lines)"
      ],
      "metadata": {
        "colab": {
          "base_uri": "https://localhost:8080/",
          "height": 248
        },
        "id": "7-snASHSlwSK",
        "outputId": "a2805247-7b31-4822-a2fc-60c9d8c380d0"
      },
      "execution_count": 1,
      "outputs": [
        {
          "output_type": "error",
          "ename": "FileNotFoundError",
          "evalue": "ignored",
          "traceback": [
            "\u001b[0;31m---------------------------------------------------------------------------\u001b[0m",
            "\u001b[0;31mFileNotFoundError\u001b[0m                         Traceback (most recent call last)",
            "\u001b[0;32m<ipython-input-1-6d771531d7e3>\u001b[0m in \u001b[0;36m<cell line: 2>\u001b[0;34m()\u001b[0m\n\u001b[1;32m      1\u001b[0m \u001b[0;31m#11.\u001b[0m\u001b[0;34m\u001b[0m\u001b[0;34m\u001b[0m\u001b[0m\n\u001b[0;32m----> 2\u001b[0;31m \u001b[0;32mwith\u001b[0m \u001b[0mopen\u001b[0m\u001b[0;34m(\u001b[0m\u001b[0;34m'input.txt'\u001b[0m\u001b[0;34m,\u001b[0m \u001b[0;34m'r'\u001b[0m\u001b[0;34m)\u001b[0m \u001b[0;32mas\u001b[0m \u001b[0mf\u001b[0m\u001b[0;34m:\u001b[0m\u001b[0;34m\u001b[0m\u001b[0;34m\u001b[0m\u001b[0m\n\u001b[0m\u001b[1;32m      3\u001b[0m   \u001b[0mlines\u001b[0m\u001b[0;34m=\u001b[0m\u001b[0mf\u001b[0m\u001b[0;34m.\u001b[0m\u001b[0mreadlines\u001b[0m\u001b[0;34m(\u001b[0m\u001b[0;34m)\u001b[0m\u001b[0;34m\u001b[0m\u001b[0;34m\u001b[0m\u001b[0m\n\u001b[1;32m      4\u001b[0m \u001b[0;34m\u001b[0m\u001b[0m\n\u001b[1;32m      5\u001b[0m \u001b[0;31m#각 줄 앞에 번호 매기기\u001b[0m\u001b[0;34m\u001b[0m\u001b[0;34m\u001b[0m\u001b[0m\n",
            "\u001b[0;31mFileNotFoundError\u001b[0m: [Errno 2] No such file or directory: 'input.txt'"
          ]
        }
      ]
    },
    {
      "cell_type": "code",
      "source": [
        "#12.\n",
        "\n",
        "twitter=input(\"트윗 문자열: \")\n"
      ],
      "metadata": {
        "id": "VaVU2fLHmV3u"
      },
      "execution_count": null,
      "outputs": []
    },
    {
      "cell_type": "code",
      "source": [
        "import re\n",
        "\n",
        "def clean_tweet(tweet):\n",
        "    # RT, CC를 삭제합니다.\n",
        "    tweet = re.sub(r'\\bRT\\b|\\bCC\\b', '', tweet)\n",
        "\n",
        "    # URL을 삭제합니다.\n",
        "    tweet = re.sub(r'http[s]?://(?:[a-zA-Z]|[0-9]|[$-_@.&+]|[!*\\\\(\\\\),]|(?:%[0-9a-fA-F][0-9a-fA-F]))+', '', tweet)\n",
        "\n",
        "    # 이메일 주소를 삭제합니다.\n",
        "    tweet = re.sub(r'\\b[\\w\\.-]+@[\\w\\.-]+\\b', '', tweet)\n",
        "\n",
        "    # 해시태그를 삭제합니다.\n",
        "    tweet = re.sub(r'#\\w+', '', tweet)\n",
        "\n",
        "    # 언급을 삭제합니다.\n",
        "    tweet = re.sub(r'@\\w+', '', tweet)\n",
        "\n",
        "    # 특수 문자와 숫자를 삭제합니다.\n",
        "    tweet = re.sub(r'[^a-zA-Z ]', '', tweet)\n",
        "\n",
        "    # 연속된 공백을 하나로 줄입니다.\n",
        "    tweet = re.sub(r'\\s+', ' ', tweet)\n",
        "\n",
        "    return tweet.strip()\n",
        "\n",
        "tweet = \"Good Morning! RT @PythonUser I like Python #Python\"\n",
        "cleaned_tweet = clean_tweet(tweet)\n",
        "print(f\"트윗 문자열: '{tweet}'\")\n",
        "print(f\"정제된 문자열: '{cleaned_tweet}'\")\n"
      ],
      "metadata": {
        "colab": {
          "base_uri": "https://localhost:8080/"
        },
        "id": "O-VITcKmn1Ft",
        "outputId": "11168822-9672-4320-d026-bf420c840590"
      },
      "execution_count": 4,
      "outputs": [
        {
          "output_type": "stream",
          "name": "stdout",
          "text": [
            "트윗 문자열: 'Good Morning! RT @PythonUser I like Python #Python'\n",
            "정제된 문자열: 'Good Morning I like Python'\n"
          ]
        }
      ]
    },
    {
      "cell_type": "code",
      "source": [],
      "metadata": {
        "id": "sHcuhqxgn1aF"
      },
      "execution_count": null,
      "outputs": []
    }
  ]
}