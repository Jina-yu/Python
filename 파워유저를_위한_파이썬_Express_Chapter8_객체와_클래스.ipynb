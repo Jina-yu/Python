{
  "nbformat": 4,
  "nbformat_minor": 0,
  "metadata": {
    "colab": {
      "provenance": [],
      "authorship_tag": "ABX9TyOEYPtL7fUquA3Eos75/SQA",
      "include_colab_link": true
    },
    "kernelspec": {
      "name": "python3",
      "display_name": "Python 3"
    },
    "language_info": {
      "name": "python"
    }
  },
  "cells": [
    {
      "cell_type": "markdown",
      "metadata": {
        "id": "view-in-github",
        "colab_type": "text"
      },
      "source": [
        "<a href=\"https://colab.research.google.com/github/Jina-yu/Python/blob/main/%ED%8C%8C%EC%9B%8C%EC%9C%A0%EC%A0%80%EB%A5%BC_%EC%9C%84%ED%95%9C_%ED%8C%8C%EC%9D%B4%EC%8D%AC_Express_Chapter8_%EA%B0%9D%EC%B2%B4%EC%99%80_%ED%81%B4%EB%9E%98%EC%8A%A4.ipynb\" target=\"_parent\"><img src=\"https://colab.research.google.com/assets/colab-badge.svg\" alt=\"Open In Colab\"/></a>"
      ]
    },
    {
      "cell_type": "code",
      "execution_count": null,
      "metadata": {
        "id": "HBMLhDBb3EG_"
      },
      "outputs": [],
      "source": [
        "#Lab: TV 클래스 정의\n",
        "class Television:\n",
        "  def __init__(self, channel, volume, on):\n",
        "    self.channel=channel #인스턴스 변수 정의\n",
        "    self.volume=volume\n",
        "    self.on=on\n",
        "\n",
        "  def show(self):\n",
        "    print(self.channel, self.volume, self.on)\n",
        "\n",
        "  def setChannel(self, channel):\n",
        "    self.channel=channel\n",
        "\n",
        "  def getChannel(self):\n",
        "    return self.channel"
      ]
    },
    {
      "cell_type": "code",
      "source": [
        "t=Television(9, 10, True) #객체 생성\n",
        "t.show()\n",
        "t.setChannel(11) #객체의 멤버에 접근할 때는 멤버 연산자(.)사용\n",
        "t.show()"
      ],
      "metadata": {
        "colab": {
          "base_uri": "https://localhost:8080/"
        },
        "id": "0H4RyNeD3hFG",
        "outputId": "00e887db-8afc-4db6-9886-6e5d5a5873b6"
      },
      "execution_count": null,
      "outputs": [
        {
          "output_type": "stream",
          "name": "stdout",
          "text": [
            "9 10 True\n",
            "11 10 True\n"
          ]
        }
      ]
    },
    {
      "cell_type": "code",
      "source": [
        "#Lab: 원 클래스 작성\n",
        "import math\n",
        "\n",
        "class Circle:\n",
        "  def __init__(self, radius=0):\n",
        "    self.radius=radius\n",
        "\n",
        "  def getArea(self):\n",
        "    return math.pi*self.radius*self.radius\n",
        "\n",
        "  def getPerimeter(self):\n",
        "    return 2*math.pi*self.radius\n",
        "\n",
        "#Circle 객체 생성\n",
        "c=Circle(10)\n",
        "print(\"원의 면적\", c.getArea())\n",
        "print(\"원의 둘레\", c.getPerimeter())"
      ],
      "metadata": {
        "colab": {
          "base_uri": "https://localhost:8080/"
        },
        "id": "4cExALyC3uzJ",
        "outputId": "87411826-911c-4849-ea7f-10b1e1e760eb"
      },
      "execution_count": null,
      "outputs": [
        {
          "output_type": "stream",
          "name": "stdout",
          "text": [
            "원의 면적 314.1592653589793\n",
            "원의 둘레 62.83185307179586\n"
          ]
        }
      ]
    },
    {
      "cell_type": "code",
      "source": [
        "#Lab: 자동차 클래스 작성\n",
        "class Car:\n",
        "  def __init__(self, speed, color, model):\n",
        "    self.speed=speed\n",
        "    self.color=color\n",
        "    self.model=model\n",
        "\n",
        "  def drive(self):\n",
        "    self.speed=60"
      ],
      "metadata": {
        "id": "jgxrceMy4XgQ"
      },
      "execution_count": null,
      "outputs": []
    },
    {
      "cell_type": "code",
      "source": [
        "myCar=Car(0, \"blue\", \"E-Class\")"
      ],
      "metadata": {
        "id": "DtOxY4fx44xt"
      },
      "execution_count": null,
      "outputs": []
    },
    {
      "cell_type": "code",
      "source": [
        "print(\"자동차 객체를 생성하였습니다.\")\n",
        "print(\"자동차의 속도는\",myCar.speed)\n",
        "print(\"자동차의 색상은\",myCar.color)\n",
        "print(\"자동차의 모델은\",myCar.model)\n",
        "\n",
        "myCar.drive()\n",
        "print(\"자동차의 속도는\", myCar.speed)"
      ],
      "metadata": {
        "colab": {
          "base_uri": "https://localhost:8080/"
        },
        "id": "pJIWX5H_4-I2",
        "outputId": "2aa7d2f5-5a0a-476b-f6ce-586528cb985d"
      },
      "execution_count": null,
      "outputs": [
        {
          "output_type": "stream",
          "name": "stdout",
          "text": [
            "자동차 객체를 생성하였습니다.\n",
            "자동차의 속도는 0\n",
            "자동차의 색상은 blue\n",
            "자동차의 모델은 E-Class\n",
            "자동차의 속도는 60\n"
          ]
        }
      ]
    },
    {
      "cell_type": "code",
      "source": [
        "#Lab: 은행 계좌\n",
        "#현재 잔액(blance)만을 인스턴스 변수로 가짐\n",
        "#생성자와 인출 메소드 withdraw()와 저축 메소드 deposit()만을 가정\n",
        "#은행 계좌의 잔액은 외부에서 직접 접근 못하도록 하기\n",
        "\n",
        "class BankAccount:\n",
        "  def __init__(self):\n",
        "    self.__balance=0\n",
        "\n",
        "  def withdraw(self, amount):\n",
        "    self.__balance-=amount\n",
        "    print(\"통장에\",amount,\"가 출금되었음\")\n",
        "    return self.__balance\n",
        "  \n",
        "  def deposit(self, amount):\n",
        "    self.__balance+=amount\n",
        "    print(\"통장에\",amount,\"가 입금되었음\")\n",
        "    return self.__balance\n",
        "\n",
        "a=BankAccount()\n",
        "a.deposit(100)\n",
        "a.withdraw(10)"
      ],
      "metadata": {
        "colab": {
          "base_uri": "https://localhost:8080/"
        },
        "id": "ddgu4aPO5JN8",
        "outputId": "9dac92b4-c43f-4583-fd2f-da8e097aef74"
      },
      "execution_count": null,
      "outputs": [
        {
          "output_type": "stream",
          "name": "stdout",
          "text": [
            "통장에 100 가 입금되었음\n",
            "통장에 10 가 출금되었음\n"
          ]
        },
        {
          "output_type": "execute_result",
          "data": {
            "text/plain": [
              "90"
            ]
          },
          "metadata": {},
          "execution_count": 13
        }
      ]
    },
    {
      "cell_type": "code",
      "source": [
        "#Lab:클래스 변수\n",
        "\n",
        "class Dog:\n",
        "    kind=\"BullDog\"\n",
        "    def __init__(self, name, age):\n",
        "      self.name=name\n",
        "      self.age=age"
      ],
      "metadata": {
        "id": "X48Snw_O_LrF"
      },
      "execution_count": null,
      "outputs": []
    },
    {
      "cell_type": "code",
      "source": [
        "a=Dog(\"Buduk\", 2)\n",
        "b=Dog(\"Marry\", 3)\n",
        "\n",
        "print(a.kind) #모든 강아지가 공유\n",
        "print(b.kind)\n",
        "print(Dog.kind)\n",
        "\n",
        "print(a.name)\n",
        "print(b.name)"
      ],
      "metadata": {
        "colab": {
          "base_uri": "https://localhost:8080/"
        },
        "id": "tqvDCL3ACn2m",
        "outputId": "6afb3ea1-2cf9-48b1-d9f9-2c0eefe22908"
      },
      "execution_count": null,
      "outputs": [
        {
          "output_type": "stream",
          "name": "stdout",
          "text": [
            "BullDog\n",
            "BullDog\n",
            "BullDog\n",
            "Buduk\n",
            "Marry\n"
          ]
        }
      ]
    },
    {
      "cell_type": "code",
      "source": [
        "class Student:\n",
        "    def __init__(self, name):\n",
        "        self.name = name\n",
        "\n",
        "\n",
        "\n",
        "student1 = Student('John')\n",
        "student2 = Student('John')\n",
        "student3 = Student('Jane')\n",
        "\n",
        "print(student1 == student2)  # True\n",
        "print(student1 == student3)  # False"
      ],
      "metadata": {
        "colab": {
          "base_uri": "https://localhost:8080/"
        },
        "id": "9tygeEVsJIuC",
        "outputId": "84109a3b-e16d-4ff6-d616-a3443f1eb692"
      },
      "execution_count": null,
      "outputs": [
        {
          "output_type": "stream",
          "name": "stdout",
          "text": [
            "False\n",
            "False\n"
          ]
        }
      ]
    },
    {
      "cell_type": "code",
      "source": [
        "class Counter:\n",
        "  def __init__(self, count):\n",
        "    self.count=count\n",
        "  def increment(self):\n",
        "    self.count+=1\n",
        "  def __str__(self):\n",
        "    msg=\"카운트값:\"+str(self.count)\n",
        "    return msg\n",
        "        \n",
        "a=Counter(100)\n",
        "print(a)"
      ],
      "metadata": {
        "colab": {
          "base_uri": "https://localhost:8080/"
        },
        "id": "JW-Ya3PCLm8O",
        "outputId": "fb5096d4-6ac0-4902-f4e1-744988351317"
      },
      "execution_count": null,
      "outputs": [
        {
          "output_type": "stream",
          "name": "stdout",
          "text": [
            "<__main__.Counter object at 0x7fce86344ac0>\n"
          ]
        }
      ]
    },
    {
      "cell_type": "code",
      "source": [
        "#Lab: 백터 객체에 특수 메소드 정의하기\n",
        "class Vector2D:\n",
        "  def __init__(self, x, y):\n",
        "    self.x=x\n",
        "    self.y=y\n",
        "\n",
        "  def __add__(self, other):\n",
        "    return Vector2D(self.x+other.x, self.y+other.y)\n",
        "  \n",
        "  def __sub__(self, other):\n",
        "    return Vector2D(self.x-other.x, self.y-other.y)\n",
        "\n",
        "  def __eq__(self, other):\n",
        "    return self.x==other.x and self.y==other.y\n",
        "\n",
        "  def __str__(self):\n",
        "    return '(%g, %g)' %(self.x, self.y)\n",
        "\n",
        "u=Vector2D(0,1)\n",
        "v=Vector2D(1, 0)\n",
        "w=Vector2D(1,1)\n",
        "a=u+v\n",
        "print(a)"
      ],
      "metadata": {
        "colab": {
          "base_uri": "https://localhost:8080/"
        },
        "id": "DNDidygrM6rh",
        "outputId": "d6eb891e-d941-432a-d88c-e98ad5d2dcd9"
      },
      "execution_count": null,
      "outputs": [
        {
          "output_type": "stream",
          "name": "stdout",
          "text": [
            "(1, 1)\n"
          ]
        }
      ]
    },
    {
      "cell_type": "code",
      "source": [
        "#Lab: 주사위 클래스\n",
        "from random import randint\n",
        "\n",
        "class Dice:\n",
        "  def __init__(self, x, y):\n",
        "    self.__x=x\n",
        "    self.__y=y\n",
        "    self.__size=30\n",
        "    self.__value=1\n",
        "\n",
        "  def read_dice(self):\n",
        "    return self.__vaue\n",
        "\n",
        "  def print_dice(self):\n",
        "    print(\"주사위의 값=\", self.__value)\n",
        "\n",
        "  def roll_dice(self):\n",
        "    self.__value=randint(1,6)\n",
        "\n",
        "d=Dice(100, 100)\n",
        "d.roll_dice()\n",
        "d.print_dice()"
      ],
      "metadata": {
        "colab": {
          "base_uri": "https://localhost:8080/"
        },
        "id": "l0wLK1LmO0RH",
        "outputId": "e641232f-b723-4c10-8f84-dc7d62ea375c"
      },
      "execution_count": null,
      "outputs": [
        {
          "output_type": "stream",
          "name": "stdout",
          "text": [
            "주사위의 값= 1\n"
          ]
        }
      ]
    },
    {
      "cell_type": "markdown",
      "source": [
        "# Programming"
      ],
      "metadata": {
        "id": "YtvAovJSSJtu"
      }
    },
    {
      "cell_type": "code",
      "source": [
        "#01.\n",
        "class Cat:\n",
        "  def __init__(self, name, age):\n",
        "    self.__name=name\n",
        "    self.__age=age\n",
        "  \n",
        "  def __str__(self):\n",
        "    msg=str(self.__name)+str(self.__age)\n",
        "    return msg\n",
        "\n",
        "  def getName(self, name):\n",
        "    return self.__name\n",
        "  \n",
        "  def setName(self, name):\n",
        "    self.__name=name\n",
        "  \n",
        "  def getAge(self, age):\n",
        "    return self.__age\n",
        "\n",
        "  def setAge(self, age):\n",
        "    self.__age=age\n"
      ],
      "metadata": {
        "id": "vuhVVA-ZQgne"
      },
      "execution_count": null,
      "outputs": []
    },
    {
      "cell_type": "code",
      "source": [
        "missy=Cat('Missy', 3)\n",
        "lucky=Cat('Lucky', 5)\n",
        "print(missy)\n",
        "print(lucky)"
      ],
      "metadata": {
        "colab": {
          "base_uri": "https://localhost:8080/"
        },
        "id": "k9JGvyjJTjbl",
        "outputId": "a024928e-a370-4530-f5ad-6e24055f9d9b"
      },
      "execution_count": null,
      "outputs": [
        {
          "output_type": "stream",
          "name": "stdout",
          "text": [
            "Missy3\n",
            "Lucky5\n"
          ]
        }
      ]
    },
    {
      "cell_type": "code",
      "source": [
        "#02.\n",
        "class Rocket:\n",
        "  def __init__(self):\n",
        "    self.x=0\n",
        "    self.y=0\n",
        "  def moveUp(self):\n",
        "    self.y+=1\n",
        "  def __str__(self):\n",
        "    return self.y"
      ],
      "metadata": {
        "id": "QQUv0zDXTo7I"
      },
      "execution_count": null,
      "outputs": []
    },
    {
      "cell_type": "code",
      "source": [
        "myRocket=Rocket()\n",
        "print(\"로켓의 높이:\", myRocket.y)\n",
        "\n",
        "myRocket.moveUp()\n",
        "print(\"로켓의 높이:\", myRocket.y)"
      ],
      "metadata": {
        "colab": {
          "base_uri": "https://localhost:8080/"
        },
        "id": "n0w1GrUQUP2q",
        "outputId": "dba44291-2e7c-46d2-c51a-5743faf02dcd"
      },
      "execution_count": null,
      "outputs": [
        {
          "output_type": "stream",
          "name": "stdout",
          "text": [
            "로켓의 높이: 0\n",
            "로켓의 높이: 1\n"
          ]
        }
      ]
    },
    {
      "cell_type": "code",
      "source": [
        "#03.\n",
        "class Box:\n",
        "  def __init__(self, length, height, depth):\n",
        "    self.__length=length\n",
        "    self.__height=height\n",
        "    self.__depth=depth\n",
        "  def setLength(self, length):\n",
        "    self.__length=length\n",
        "  def setHeight(self, height):\n",
        "    self.__height=height\n",
        "  def depth(self, depth):\n",
        "    self.__depth=depth\n",
        "  def getLength(self):\n",
        "    return self.__length\n",
        "  def getHeight(self):\n",
        "    return self.__height\n",
        "  def getDepth(self):\n",
        "    return self.__depth\n",
        "  def __str__(self):\n",
        "    return f\"{self.__length}, {self.__height}, {self.__depth}\"\n"
      ],
      "metadata": {
        "id": "Kpzws4R5UZgY"
      },
      "execution_count": null,
      "outputs": []
    },
    {
      "cell_type": "code",
      "source": [
        "b1=Box(100, 100, 100)\n",
        "print(b1)\n",
        "print(\"상자의 부피는\", b1.getHeight()*b1.getLength()*b1.getDepth())"
      ],
      "metadata": {
        "colab": {
          "base_uri": "https://localhost:8080/"
        },
        "id": "_tHqUE1dVoZQ",
        "outputId": "988bc1e1-e941-4beb-8ffc-f9b2badd7544"
      },
      "execution_count": null,
      "outputs": [
        {
          "output_type": "stream",
          "name": "stdout",
          "text": [
            "100, 100, 100\n",
            "상자의 부피는 1000000\n"
          ]
        }
      ]
    },
    {
      "cell_type": "code",
      "source": [
        "#04.\n",
        "class Rectangle:\n",
        "  def __init__(self, x, y, w, h):\n",
        "    self.__x=x\n",
        "    self.__y=y\n",
        "    self.__w=w\n",
        "    self.__h=h\n",
        "\n",
        "\n",
        "  def setX(self,x):\n",
        "    self.__x=x\n",
        "  def setY(self,y):\n",
        "    self.__y=y\n",
        "  def setW(self,w):\n",
        "    self.__w=w\n",
        "  def setH(self,h):\n",
        "    self.__h=h\n",
        "  def getX(self):\n",
        "    return self.__x\n",
        "  def getY(self):\n",
        "    return self.__y\n",
        "  def getW(self):\n",
        "    return self.__w\n",
        "  def getH(self):\n",
        "    return self.__h\n",
        "  \n",
        "  def getArea(self):\n",
        "    return self.__w * self.__h\n",
        "\n",
        "  \n",
        "  def overlap(self, r):\n",
        "    if (self.__x > r.getX() + r.getW()) or (r.getX() > self.__x + self.__w) or (self.__y > r.getY() + r.getH()) or (r.getY() > self.__y + self.__h):\n",
        "        return \"r1과 r2는 서로 겹치지 않습니다.\"\n",
        "    else:\n",
        "        return \"r1과 r2는 서로 겹칩니다.\"\n",
        "\n",
        "  def __str__(self):\n",
        "    return f\"Rectangle at ({self.__x}, {self.__y}), w={self.__w}, h={self.__h}\"\n"
      ],
      "metadata": {
        "id": "kprhwOlcVrgm"
      },
      "execution_count": 5,
      "outputs": []
    },
    {
      "cell_type": "code",
      "source": [
        "r1=Rectangle(0,0,100,100)\n",
        "r2=Rectangle(0, 0, 100, 100)\n",
        "r1.overlap(r2)"
      ],
      "metadata": {
        "colab": {
          "base_uri": "https://localhost:8080/",
          "height": 35
        },
        "id": "mbzt0lJpZwnP",
        "outputId": "9e55a91a-591d-459a-ce32-8fb026abf9be"
      },
      "execution_count": 6,
      "outputs": [
        {
          "output_type": "execute_result",
          "data": {
            "text/plain": [
              "'r1과 r2는 서로 겹칩니다.'"
            ],
            "application/vnd.google.colaboratory.intrinsic+json": {
              "type": "string"
            }
          },
          "metadata": {},
          "execution_count": 6
        }
      ]
    },
    {
      "cell_type": "code",
      "source": [
        "#05.\n",
        "class Triangle:\n",
        "  numberOfSides=3\n",
        "  def __init__(self, a1, a2, a3):\n",
        "    self.__a1=a1\n",
        "    self.__a2=a2\n",
        "    self.__a3=a3\n",
        "  \n",
        "  def setAngle1(self, a1):\n",
        "    self.__a1=a1\n",
        "  def setAngle2(self, a2):\n",
        "    self.__a2=a2\n",
        "  def setAngle3(self, a3):\n",
        "    self.__a3=a3\n",
        "  \n",
        "  def getAngle1(self):\n",
        "    return self.__a1\n",
        "  def getAngle2(self):\n",
        "    return self.__a2\n",
        "  def getAngle3(self):\n",
        "    return self.__a3\n",
        "\n",
        "  def checkAngles(self):\n",
        "    if (self.__a1*self.__a2*self.__a3==180):\n",
        "      return \"삼각형\"\n",
        "    else:\n",
        "      return \"삼각형 아님\"\n",
        "\n",
        "  def __str__(self):\n",
        "    return f\"삼각형의 세 각: {self.__a1}, {self.__a2}, {self.__a3}\"\n",
        "  \n"
      ],
      "metadata": {
        "id": "kn20JLVSInBf"
      },
      "execution_count": 8,
      "outputs": []
    },
    {
      "cell_type": "code",
      "source": [
        "triangle=Triangle(90, 30, 60)\n",
        "print(triangle.checkAngles())\n",
        "print(triangle)"
      ],
      "metadata": {
        "colab": {
          "base_uri": "https://localhost:8080/"
        },
        "id": "g_zvVMykKpGy",
        "outputId": "02a31315-d9df-4545-d7a6-c856bae129c1"
      },
      "execution_count": 10,
      "outputs": [
        {
          "output_type": "stream",
          "name": "stdout",
          "text": [
            "삼각형 아님\n",
            "삼각형의 세 각: 90, 30, 60\n"
          ]
        }
      ]
    },
    {
      "cell_type": "code",
      "source": [
        "#06.\n",
        "class Person:\n",
        "  def __init__(self, n=None, m=None, o=None, e=None):\n",
        "    self.__n=n\n",
        "    self.__m=m\n",
        "    self.__o=o\n",
        "    self.__e=e\n",
        "\n",
        "  def setNameN(self, n):\n",
        "    self.__n=n\n",
        "  def setNameM(self, m):\n",
        "    self.__m=m\n",
        "  def setNameO(self, o):\n",
        "    self.__o=o\n",
        "  def setNameE(self, e):\n",
        "    self.__e=e\n",
        "\n",
        "  def getNameN(self):\n",
        "    return self.__n\n",
        "  def getNameM(self):\n",
        "    return self.__m\n",
        "  def getNameO(self):\n",
        "    return self.__o\n",
        "  def getNameE(self):\n",
        "    return self.__e\n",
        "\n",
        "  def __str__(self):\n",
        "    return f\"name {self.__n}, office {self.__o}, mobile {self.__m}, email {self.__e}\""
      ],
      "metadata": {
        "id": "8Ilu8Mk_KwRw"
      },
      "execution_count": 14,
      "outputs": []
    },
    {
      "cell_type": "code",
      "source": [
        "p1=Person(\"Kim\", o=\"1234567\", e=\"kim@company.com\")\n",
        "p2=Person(\"Park\", o=\"2345678\")\n",
        "p2.setNameE(\"park@company.com\")"
      ],
      "metadata": {
        "id": "zAATHnoSMpwf"
      },
      "execution_count": 16,
      "outputs": []
    },
    {
      "cell_type": "code",
      "source": [
        "print(p1)"
      ],
      "metadata": {
        "colab": {
          "base_uri": "https://localhost:8080/"
        },
        "id": "a6Qp5DGEM3_7",
        "outputId": "94b3ebe9-65bb-49eb-89cc-3e9278249121"
      },
      "execution_count": 19,
      "outputs": [
        {
          "output_type": "stream",
          "name": "stdout",
          "text": [
            "name Kim, office 1234567, mobile None, email kim@company.com\n"
          ]
        }
      ]
    },
    {
      "cell_type": "code",
      "source": [
        "print(p2)"
      ],
      "metadata": {
        "colab": {
          "base_uri": "https://localhost:8080/"
        },
        "id": "3QJPm0K4NSpC",
        "outputId": "b38f915e-861e-4140-f079-82c697f53dcb"
      },
      "execution_count": 20,
      "outputs": [
        {
          "output_type": "stream",
          "name": "stdout",
          "text": [
            "name Park, office 2345678, mobile None, email park@company.com\n"
          ]
        }
      ]
    },
    {
      "cell_type": "code",
      "source": [
        "#07.\n",
        "class PhoneBook:\n",
        "  contacts={'name': None, 'mobile': None, 'office': None, 'email': None}\n",
        "  def __init__(self):\n",
        "    self={}\n",
        "  def add(self, name, mobile=None, office=None, email=None):\n",
        "    self.contacts['name']=name\n",
        "    self.contacts['mobile']=mobile\n",
        "    self.contacts['office']=office\n",
        "    self.contacts['email']=email\n",
        "\n",
        "  def __str__(self):\n",
        "    return f\"{self.contacts['name']}\\noffice phone: {self.contacts['office']}\\nemail address: {self.contacts['email']}\""
      ],
      "metadata": {
        "id": "BReHTnU1Nmbu"
      },
      "execution_count": 31,
      "outputs": []
    },
    {
      "cell_type": "code",
      "source": [
        "obj=PhoneBook()\n",
        "obj.add(\"Kim\", office=\"1234567\", email=\"kim@company.com\")\n",
        "obj.add(\"Park\", office=\"2345678\", email=\"park@company.com\")\n",
        "print(obj)"
      ],
      "metadata": {
        "colab": {
          "base_uri": "https://localhost:8080/"
        },
        "id": "Vq__dDXZPnqF",
        "outputId": "54b67602-887f-49b9-92ec-2fa2e4cdd88d"
      },
      "execution_count": 32,
      "outputs": [
        {
          "output_type": "stream",
          "name": "stdout",
          "text": [
            "Park\n",
            "office phone: 2345678\n",
            "email address: park@company.com\n"
          ]
        }
      ]
    },
    {
      "cell_type": "code",
      "source": [
        "#07. 수정된 코드\n",
        "class PhoneBook:\n",
        "  def __init__(self):\n",
        "    self.contacts={}\n",
        "\n",
        "  def add(self, name, mobile=None, office=None, email=None):\n",
        "    self.contacts[name]={'name': name, 'mobile': mobile, 'office': office, 'email':email}\n",
        "\n",
        "  def __str__(self):\n",
        "    result=\"\"\n",
        "    for name, info in self.contacts.items():\n",
        "      result+=f\"{name}\\noffice phone: {info['office']}\\nemail address {info['email']}\\n\"\n",
        "    return result"
      ],
      "metadata": {
        "id": "PIc9firKQIrV"
      },
      "execution_count": 33,
      "outputs": []
    },
    {
      "cell_type": "code",
      "source": [
        "obj=PhoneBook()\n",
        "obj.add(\"Kim\", office=\"1234567\", email=\"kim@company.com\")\n",
        "obj.add(\"Park\", office=\"2345678\", email=\"park@company.com\")\n",
        "print(obj)"
      ],
      "metadata": {
        "colab": {
          "base_uri": "https://localhost:8080/"
        },
        "id": "ePG9uo4FSG2H",
        "outputId": "ce09c60b-7da8-4003-dfd2-6a27f81ff4ed"
      },
      "execution_count": 34,
      "outputs": [
        {
          "output_type": "stream",
          "name": "stdout",
          "text": [
            "Kim\n",
            "office phone: 1234567\n",
            "email address kim@company.com\n",
            "Park\n",
            "office phone: 2345678\n",
            "email address park@company.com\n",
            "\n"
          ]
        }
      ]
    },
    {
      "cell_type": "code",
      "source": [
        "#08.\n",
        "class printSong:\n",
        "  def __init__(self,lyric):\n",
        "    self.lyric=[lyric]\n",
        "  def sing(self):\n",
        "    for i in range(len(self.lyric)):\n",
        "      print(\"\\n\".join(self.lyric[i]))\n",
        "  def __str__(self):\n",
        "    return f\"{self.lyric}\""
      ],
      "metadata": {
        "id": "0NjwdIr3SH0t"
      },
      "execution_count": 57,
      "outputs": []
    },
    {
      "cell_type": "code",
      "source": [
        "aSong=printSong([\"TWINKLE, twinkle, little star\", \"How I wonder what you are!\", \"Up above the world so high,\", \"Like a diamond in the sky.\"])\n",
        "aSong.sing()"
      ],
      "metadata": {
        "colab": {
          "base_uri": "https://localhost:8080/"
        },
        "id": "ysvk7u-AUOg8",
        "outputId": "a92db324-4bf3-499c-e728-ed01817a7b4c"
      },
      "execution_count": 59,
      "outputs": [
        {
          "output_type": "stream",
          "name": "stdout",
          "text": [
            "TWINKLE, twinkle, little star\n",
            "How I wonder what you are!\n",
            "Up above the world so high,\n",
            "Like a diamond in the sky.\n"
          ]
        }
      ]
    },
    {
      "cell_type": "code",
      "source": [],
      "metadata": {
        "id": "rcLD2rZLUfB-"
      },
      "execution_count": null,
      "outputs": []
    }
  ]
}